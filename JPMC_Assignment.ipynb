{
 "cells": [
  {
   "cell_type": "markdown",
   "id": "e2aec83e",
   "metadata": {},
   "source": [
    "Files:\n",
    "\n",
    "data.txt contains the data for the task\n",
    "\n",
    "instructions.md is a markdown file (can open via notepad or Jupyter notebook) with the instructions\n",
    "\n",
    " \n",
    "\n",
    "The instructions are as follows:\n",
    "\n",
    " \n",
    "\n",
    "You are given a dataset to predict cognitive test scores of preschoolers given characteristics of their mothers.\n",
    "\n",
    " \n",
    "\n",
    "Data dictionary:\n",
    "\n",
    "1. i - mother's IQ\n",
    "2. a - mother's age at child's birth\n",
    "3. h - indicator showing whether mother completed high school (1=True, 0=False)\n",
    "4. w = 1: mother did not work in first three years of child’s life\n",
    "5. w = 2: mother worked in second or third year of child’s life\n",
    "6. w = 3: mother worked part-time in first year of child’s life\n",
    "7. w = 4: mother worked full-time in first year of child’s life\n",
    "8. score - child's IQ (regressand)\n",
    " \n",
    "\n",
    "Tasks:\n",
    "\n",
    "1. Prepare the data, rename variables as you see fit and justify. Propose the types of data for each variable (python data types).\n",
    "\n",
    "2. Transform the data so it's easy to analyze - describe what you did and why\n",
    "\n",
    "3. Perform the exploratory data analysis\n",
    "\n",
    "4. Perform a linear regression where the regressand is child's IQ\n",
    "\n",
    "    A. using a single predictor\n",
    "\n",
    "    B. using multiple predictors\n",
    "\n",
    "    C. using multiple predictors with an interaction term\n",
    "\n",
    "   \n",
    "\n",
    "    For each case, explain your model, model assumptions and how to interpret the regression coefficients.\n",
    "\n",
    "   \n",
    "\n",
    "For each task please provide suitable markdown comments and visualizations supporting your work including model diagnostics and evaluation."
   ]
  },
  {
   "cell_type": "markdown",
   "id": "962a8c79",
   "metadata": {},
   "source": [
    "## <font color='blue'><u> Importing data file </u></font>"
   ]
  },
  {
   "cell_type": "code",
   "execution_count": 713,
   "id": "bcdccc30",
   "metadata": {},
   "outputs": [
    {
     "name": "stdout",
     "output_type": "stream",
     "text": [
      "'utf-8' codec can't decode byte 0x80 in position 0: invalid start byte\n"
     ]
    }
   ],
   "source": [
    "import csv\n",
    "import pandas as pd\n",
    "import warnings\n",
    "import matplotlib.pyplot as plt\n",
    "import seaborn as sns\n",
    "import numpy as np\n",
    "from textwrap import wrap\n",
    "import scipy\n",
    "from scipy import stats\n",
    "from scipy.stats import shapiro \n",
    "from scipy.stats import ttest_ind, mannwhitneyu, kruskal\n",
    "import statsmodels.api as sm\n",
    "import category_encoders as ce\n",
    "from sklearn.preprocessing import StandardScaler\n",
    "from sklearn.preprocessing import PolynomialFeatures\n",
    "warnings.filterwarnings(\"ignore\")\n",
    "try:\n",
    "    data = pd.read_csv('data.txt', delimiter='|')\n",
    "    print('Data successfully loaded')\n",
    "except Exception as e:\n",
    "    print(e)"
   ]
  },
  {
   "cell_type": "markdown",
   "id": "3e06830c",
   "metadata": {},
   "source": [
    "## <font color='blue'><u> Data Preparation</u></font>"
   ]
  },
  {
   "cell_type": "markdown",
   "id": "b8f3eb9e",
   "metadata": {},
   "source": [
    "## As there is this error this means the txt file might have non-UTF-8 characters"
   ]
  },
  {
   "cell_type": "code",
   "execution_count": 714,
   "id": "1f0d3f75",
   "metadata": {},
   "outputs": [
    {
     "name": "stdout",
     "output_type": "stream",
     "text": [
      "��|variable|value\r",
      "\r\n",
      "0xC0|��င��|��မ��\r",
      "\r\n"
     ]
    }
   ],
   "source": [
    "!grep -axv '.*' data.txt"
   ]
  },
  {
   "cell_type": "markdown",
   "id": "a91de6ca",
   "metadata": {},
   "source": [
    "### There are 2 rows in the text file which has non-UTF-8 characters.  By looking at the data, we can see that the first row is just the header of the file while the second row might or might not have any data. As these characters do not make sense, it makes sense to remove the rows. We can remove these rows and then check through the Serial number datapoint in the text file if some data was deleted."
   ]
  },
  {
   "cell_type": "code",
   "execution_count": 715,
   "id": "854cdd1e",
   "metadata": {},
   "outputs": [],
   "source": [
    "data = pd.read_csv('data.txt', delimiter='|',encoding='utf-8', encoding_errors='ignore')"
   ]
  },
  {
   "cell_type": "code",
   "execution_count": 716,
   "id": "dd0d056d",
   "metadata": {},
   "outputs": [
    {
     "data": {
      "text/html": [
       "<div>\n",
       "<style scoped>\n",
       "    .dataframe tbody tr th:only-of-type {\n",
       "        vertical-align: middle;\n",
       "    }\n",
       "\n",
       "    .dataframe tbody tr th {\n",
       "        vertical-align: top;\n",
       "    }\n",
       "\n",
       "    .dataframe thead th {\n",
       "        text-align: right;\n",
       "    }\n",
       "</style>\n",
       "<table border=\"1\" class=\"dataframe\">\n",
       "  <thead>\n",
       "    <tr style=\"text-align: right;\">\n",
       "      <th></th>\n",
       "      <th>Unnamed: 0</th>\n",
       "      <th>variable</th>\n",
       "      <th>value</th>\n",
       "    </tr>\n",
       "  </thead>\n",
       "  <tbody>\n",
       "    <tr>\n",
       "      <th>0</th>\n",
       "      <td>0</td>\n",
       "      <td>score</td>\n",
       "      <td>65</td>\n",
       "    </tr>\n",
       "    <tr>\n",
       "      <th>1</th>\n",
       "      <td>1</td>\n",
       "      <td>score</td>\n",
       "      <td>98</td>\n",
       "    </tr>\n",
       "    <tr>\n",
       "      <th>2</th>\n",
       "      <td>2</td>\n",
       "      <td>score</td>\n",
       "      <td>85</td>\n",
       "    </tr>\n",
       "    <tr>\n",
       "      <th>3</th>\n",
       "      <td>3</td>\n",
       "      <td>score</td>\n",
       "      <td>83</td>\n",
       "    </tr>\n",
       "    <tr>\n",
       "      <th>4</th>\n",
       "      <td>4</td>\n",
       "      <td>score</td>\n",
       "      <td>115</td>\n",
       "    </tr>\n",
       "    <tr>\n",
       "      <th>...</th>\n",
       "      <td>...</td>\n",
       "      <td>...</td>\n",
       "      <td>...</td>\n",
       "    </tr>\n",
       "    <tr>\n",
       "      <th>2166</th>\n",
       "      <td>2165</td>\n",
       "      <td>a</td>\n",
       "      <td>21</td>\n",
       "    </tr>\n",
       "    <tr>\n",
       "      <th>2167</th>\n",
       "      <td>2166</td>\n",
       "      <td>a</td>\n",
       "      <td>23</td>\n",
       "    </tr>\n",
       "    <tr>\n",
       "      <th>2168</th>\n",
       "      <td>2167</td>\n",
       "      <td>a</td>\n",
       "      <td>24</td>\n",
       "    </tr>\n",
       "    <tr>\n",
       "      <th>2169</th>\n",
       "      <td>2168</td>\n",
       "      <td>a</td>\n",
       "      <td>21</td>\n",
       "    </tr>\n",
       "    <tr>\n",
       "      <th>2170</th>\n",
       "      <td>2169</td>\n",
       "      <td>a</td>\n",
       "      <td>25</td>\n",
       "    </tr>\n",
       "  </tbody>\n",
       "</table>\n",
       "<p>2171 rows × 3 columns</p>\n",
       "</div>"
      ],
      "text/plain": [
       "     Unnamed: 0 variable value\n",
       "0             0    score    65\n",
       "1             1    score    98\n",
       "2             2    score    85\n",
       "3             3    score    83\n",
       "4             4    score   115\n",
       "...         ...      ...   ...\n",
       "2166       2165        a    21\n",
       "2167       2166        a    23\n",
       "2168       2167        a    24\n",
       "2169       2168        a    21\n",
       "2170       2169        a    25\n",
       "\n",
       "[2171 rows x 3 columns]"
      ]
     },
     "execution_count": 716,
     "metadata": {},
     "output_type": "execute_result"
    }
   ],
   "source": [
    "data"
   ]
  },
  {
   "cell_type": "code",
   "execution_count": 717,
   "id": "6ea2d6ac",
   "metadata": {},
   "outputs": [],
   "source": [
    "data = data.rename(columns={'Unnamed: 0':'serial_number'})"
   ]
  },
  {
   "cell_type": "markdown",
   "id": "7de31a8d",
   "metadata": {},
   "source": [
    "### Finding row which had non-UTF-8 characters & removing it"
   ]
  },
  {
   "cell_type": "code",
   "execution_count": 718,
   "id": "ae10c27d",
   "metadata": {},
   "outputs": [
    {
     "name": "stdout",
     "output_type": "stream",
     "text": [
      "894\n"
     ]
    }
   ],
   "source": [
    "for ind in data.index:\n",
    "    if data['serial_number'][ind] != str(ind):\n",
    "        print(ind)\n",
    "        break"
   ]
  },
  {
   "cell_type": "code",
   "execution_count": 719,
   "id": "c1022221",
   "metadata": {},
   "outputs": [
    {
     "data": {
      "text/html": [
       "<div>\n",
       "<style scoped>\n",
       "    .dataframe tbody tr th:only-of-type {\n",
       "        vertical-align: middle;\n",
       "    }\n",
       "\n",
       "    .dataframe tbody tr th {\n",
       "        vertical-align: top;\n",
       "    }\n",
       "\n",
       "    .dataframe thead th {\n",
       "        text-align: right;\n",
       "    }\n",
       "</style>\n",
       "<table border=\"1\" class=\"dataframe\">\n",
       "  <thead>\n",
       "    <tr style=\"text-align: right;\">\n",
       "      <th></th>\n",
       "      <th>serial_number</th>\n",
       "      <th>variable</th>\n",
       "      <th>value</th>\n",
       "    </tr>\n",
       "  </thead>\n",
       "  <tbody>\n",
       "    <tr>\n",
       "      <th>894</th>\n",
       "      <td>0xC0</td>\n",
       "      <td>င</td>\n",
       "      <td>မ</td>\n",
       "    </tr>\n",
       "  </tbody>\n",
       "</table>\n",
       "</div>"
      ],
      "text/plain": [
       "    serial_number variable value\n",
       "894          0xC0        င     မ"
      ]
     },
     "execution_count": 719,
     "metadata": {},
     "output_type": "execute_result"
    }
   ],
   "source": [
    "data[data.index == 894]"
   ]
  },
  {
   "cell_type": "code",
   "execution_count": 720,
   "id": "cc912203",
   "metadata": {},
   "outputs": [],
   "source": [
    "data = data.drop(index=894)"
   ]
  },
  {
   "cell_type": "code",
   "execution_count": 721,
   "id": "266ffdf1",
   "metadata": {},
   "outputs": [
    {
     "data": {
      "text/html": [
       "<div>\n",
       "<style scoped>\n",
       "    .dataframe tbody tr th:only-of-type {\n",
       "        vertical-align: middle;\n",
       "    }\n",
       "\n",
       "    .dataframe tbody tr th {\n",
       "        vertical-align: top;\n",
       "    }\n",
       "\n",
       "    .dataframe thead th {\n",
       "        text-align: right;\n",
       "    }\n",
       "</style>\n",
       "<table border=\"1\" class=\"dataframe\">\n",
       "  <thead>\n",
       "    <tr style=\"text-align: right;\">\n",
       "      <th></th>\n",
       "      <th>serial_number</th>\n",
       "      <th>variable</th>\n",
       "      <th>value</th>\n",
       "    </tr>\n",
       "  </thead>\n",
       "  <tbody>\n",
       "    <tr>\n",
       "      <th>0</th>\n",
       "      <td>0</td>\n",
       "      <td>score</td>\n",
       "      <td>65</td>\n",
       "    </tr>\n",
       "    <tr>\n",
       "      <th>1</th>\n",
       "      <td>1</td>\n",
       "      <td>score</td>\n",
       "      <td>98</td>\n",
       "    </tr>\n",
       "    <tr>\n",
       "      <th>2</th>\n",
       "      <td>2</td>\n",
       "      <td>score</td>\n",
       "      <td>85</td>\n",
       "    </tr>\n",
       "    <tr>\n",
       "      <th>3</th>\n",
       "      <td>3</td>\n",
       "      <td>score</td>\n",
       "      <td>83</td>\n",
       "    </tr>\n",
       "    <tr>\n",
       "      <th>4</th>\n",
       "      <td>4</td>\n",
       "      <td>score</td>\n",
       "      <td>115</td>\n",
       "    </tr>\n",
       "    <tr>\n",
       "      <th>...</th>\n",
       "      <td>...</td>\n",
       "      <td>...</td>\n",
       "      <td>...</td>\n",
       "    </tr>\n",
       "    <tr>\n",
       "      <th>2166</th>\n",
       "      <td>2165</td>\n",
       "      <td>a</td>\n",
       "      <td>21</td>\n",
       "    </tr>\n",
       "    <tr>\n",
       "      <th>2167</th>\n",
       "      <td>2166</td>\n",
       "      <td>a</td>\n",
       "      <td>23</td>\n",
       "    </tr>\n",
       "    <tr>\n",
       "      <th>2168</th>\n",
       "      <td>2167</td>\n",
       "      <td>a</td>\n",
       "      <td>24</td>\n",
       "    </tr>\n",
       "    <tr>\n",
       "      <th>2169</th>\n",
       "      <td>2168</td>\n",
       "      <td>a</td>\n",
       "      <td>21</td>\n",
       "    </tr>\n",
       "    <tr>\n",
       "      <th>2170</th>\n",
       "      <td>2169</td>\n",
       "      <td>a</td>\n",
       "      <td>25</td>\n",
       "    </tr>\n",
       "  </tbody>\n",
       "</table>\n",
       "<p>2170 rows × 3 columns</p>\n",
       "</div>"
      ],
      "text/plain": [
       "     serial_number variable value\n",
       "0                0    score    65\n",
       "1                1    score    98\n",
       "2                2    score    85\n",
       "3                3    score    83\n",
       "4                4    score   115\n",
       "...            ...      ...   ...\n",
       "2166          2165        a    21\n",
       "2167          2166        a    23\n",
       "2168          2167        a    24\n",
       "2169          2168        a    21\n",
       "2170          2169        a    25\n",
       "\n",
       "[2170 rows x 3 columns]"
      ]
     },
     "execution_count": 721,
     "metadata": {},
     "output_type": "execute_result"
    }
   ],
   "source": [
    "data"
   ]
  },
  {
   "cell_type": "code",
   "execution_count": 722,
   "id": "94825732",
   "metadata": {},
   "outputs": [],
   "source": [
    "data = data.reset_index()\n",
    "data = data.drop(['index'],axis = 1)"
   ]
  },
  {
   "cell_type": "code",
   "execution_count": 723,
   "id": "9e7d9f90",
   "metadata": {},
   "outputs": [
    {
     "data": {
      "text/html": [
       "<div>\n",
       "<style scoped>\n",
       "    .dataframe tbody tr th:only-of-type {\n",
       "        vertical-align: middle;\n",
       "    }\n",
       "\n",
       "    .dataframe tbody tr th {\n",
       "        vertical-align: top;\n",
       "    }\n",
       "\n",
       "    .dataframe thead th {\n",
       "        text-align: right;\n",
       "    }\n",
       "</style>\n",
       "<table border=\"1\" class=\"dataframe\">\n",
       "  <thead>\n",
       "    <tr style=\"text-align: right;\">\n",
       "      <th></th>\n",
       "      <th>serial_number</th>\n",
       "      <th>variable</th>\n",
       "      <th>value</th>\n",
       "    </tr>\n",
       "  </thead>\n",
       "  <tbody>\n",
       "    <tr>\n",
       "      <th>0</th>\n",
       "      <td>0</td>\n",
       "      <td>score</td>\n",
       "      <td>65</td>\n",
       "    </tr>\n",
       "    <tr>\n",
       "      <th>1</th>\n",
       "      <td>1</td>\n",
       "      <td>score</td>\n",
       "      <td>98</td>\n",
       "    </tr>\n",
       "    <tr>\n",
       "      <th>2</th>\n",
       "      <td>2</td>\n",
       "      <td>score</td>\n",
       "      <td>85</td>\n",
       "    </tr>\n",
       "    <tr>\n",
       "      <th>3</th>\n",
       "      <td>3</td>\n",
       "      <td>score</td>\n",
       "      <td>83</td>\n",
       "    </tr>\n",
       "    <tr>\n",
       "      <th>4</th>\n",
       "      <td>4</td>\n",
       "      <td>score</td>\n",
       "      <td>115</td>\n",
       "    </tr>\n",
       "    <tr>\n",
       "      <th>...</th>\n",
       "      <td>...</td>\n",
       "      <td>...</td>\n",
       "      <td>...</td>\n",
       "    </tr>\n",
       "    <tr>\n",
       "      <th>2165</th>\n",
       "      <td>2165</td>\n",
       "      <td>a</td>\n",
       "      <td>21</td>\n",
       "    </tr>\n",
       "    <tr>\n",
       "      <th>2166</th>\n",
       "      <td>2166</td>\n",
       "      <td>a</td>\n",
       "      <td>23</td>\n",
       "    </tr>\n",
       "    <tr>\n",
       "      <th>2167</th>\n",
       "      <td>2167</td>\n",
       "      <td>a</td>\n",
       "      <td>24</td>\n",
       "    </tr>\n",
       "    <tr>\n",
       "      <th>2168</th>\n",
       "      <td>2168</td>\n",
       "      <td>a</td>\n",
       "      <td>21</td>\n",
       "    </tr>\n",
       "    <tr>\n",
       "      <th>2169</th>\n",
       "      <td>2169</td>\n",
       "      <td>a</td>\n",
       "      <td>25</td>\n",
       "    </tr>\n",
       "  </tbody>\n",
       "</table>\n",
       "<p>2170 rows × 3 columns</p>\n",
       "</div>"
      ],
      "text/plain": [
       "     serial_number variable value\n",
       "0                0    score    65\n",
       "1                1    score    98\n",
       "2                2    score    85\n",
       "3                3    score    83\n",
       "4                4    score   115\n",
       "...            ...      ...   ...\n",
       "2165          2165        a    21\n",
       "2166          2166        a    23\n",
       "2167          2167        a    24\n",
       "2168          2168        a    21\n",
       "2169          2169        a    25\n",
       "\n",
       "[2170 rows x 3 columns]"
      ]
     },
     "execution_count": 723,
     "metadata": {},
     "output_type": "execute_result"
    }
   ],
   "source": [
    "data"
   ]
  },
  {
   "cell_type": "markdown",
   "id": "6fcecea4",
   "metadata": {},
   "source": [
    "### The serial_number column should now have integer values so converting its datatype"
   ]
  },
  {
   "cell_type": "code",
   "execution_count": 724,
   "id": "700a0365",
   "metadata": {},
   "outputs": [
    {
     "name": "stdout",
     "output_type": "stream",
     "text": [
      "<class 'pandas.core.frame.DataFrame'>\n",
      "RangeIndex: 2170 entries, 0 to 2169\n",
      "Data columns (total 3 columns):\n",
      " #   Column         Non-Null Count  Dtype \n",
      "---  ------         --------------  ----- \n",
      " 0   serial_number  2170 non-null   object\n",
      " 1   variable       2170 non-null   object\n",
      " 2   value          2170 non-null   object\n",
      "dtypes: object(3)\n",
      "memory usage: 51.0+ KB\n"
     ]
    }
   ],
   "source": [
    "data.info()"
   ]
  },
  {
   "cell_type": "code",
   "execution_count": 725,
   "id": "eba35fdb",
   "metadata": {},
   "outputs": [],
   "source": [
    "data = data.astype({'serial_number':int})"
   ]
  },
  {
   "cell_type": "code",
   "execution_count": 726,
   "id": "baba8975",
   "metadata": {},
   "outputs": [
    {
     "name": "stdout",
     "output_type": "stream",
     "text": [
      "<class 'pandas.core.frame.DataFrame'>\n",
      "RangeIndex: 2170 entries, 0 to 2169\n",
      "Data columns (total 3 columns):\n",
      " #   Column         Non-Null Count  Dtype \n",
      "---  ------         --------------  ----- \n",
      " 0   serial_number  2170 non-null   int64 \n",
      " 1   variable       2170 non-null   object\n",
      " 2   value          2170 non-null   object\n",
      "dtypes: int64(1), object(2)\n",
      "memory usage: 51.0+ KB\n"
     ]
    }
   ],
   "source": [
    "data.info()"
   ]
  },
  {
   "cell_type": "markdown",
   "id": "391f5ad0",
   "metadata": {},
   "source": [
    "### Checking if there is any number missing in serial_number "
   ]
  },
  {
   "cell_type": "code",
   "execution_count": 727,
   "id": "ba0e23e2",
   "metadata": {},
   "outputs": [],
   "source": [
    "list_of_serial_numbers_that_should_exist = list(range(0,len(data)))"
   ]
  },
  {
   "cell_type": "code",
   "execution_count": 728,
   "id": "f4a300b5",
   "metadata": {},
   "outputs": [
    {
     "name": "stdout",
     "output_type": "stream",
     "text": [
      "No serial number missing\n"
     ]
    }
   ],
   "source": [
    "counter = 0\n",
    "for i in range(len(list_of_serial_numbers_that_should_exist)):\n",
    "    if len(data[data.loc[:,'serial_number'] == i]) == 0:\n",
    "        print(i)\n",
    "        print(\"Serial number missing\")\n",
    "        counter = 1\n",
    "if counter == 0:\n",
    "    print(\"No serial number missing\")"
   ]
  },
  {
   "cell_type": "markdown",
   "id": "a5f0ee6b",
   "metadata": {},
   "source": [
    "### Looking at the data, it looks like the data for different columns/variables have been appended in rows. So, finding the number of rows of data for each variable to verify this"
   ]
  },
  {
   "cell_type": "code",
   "execution_count": 729,
   "id": "72aa04c2",
   "metadata": {},
   "outputs": [
    {
     "data": {
      "text/html": [
       "<div>\n",
       "<style scoped>\n",
       "    .dataframe tbody tr th:only-of-type {\n",
       "        vertical-align: middle;\n",
       "    }\n",
       "\n",
       "    .dataframe tbody tr th {\n",
       "        vertical-align: top;\n",
       "    }\n",
       "\n",
       "    .dataframe thead th {\n",
       "        text-align: right;\n",
       "    }\n",
       "</style>\n",
       "<table border=\"1\" class=\"dataframe\">\n",
       "  <thead>\n",
       "    <tr style=\"text-align: right;\">\n",
       "      <th></th>\n",
       "      <th>serial_number</th>\n",
       "      <th>variable</th>\n",
       "      <th>value</th>\n",
       "    </tr>\n",
       "  </thead>\n",
       "  <tbody>\n",
       "    <tr>\n",
       "      <th>0</th>\n",
       "      <td>0</td>\n",
       "      <td>score</td>\n",
       "      <td>65</td>\n",
       "    </tr>\n",
       "    <tr>\n",
       "      <th>1</th>\n",
       "      <td>1</td>\n",
       "      <td>score</td>\n",
       "      <td>98</td>\n",
       "    </tr>\n",
       "    <tr>\n",
       "      <th>2</th>\n",
       "      <td>2</td>\n",
       "      <td>score</td>\n",
       "      <td>85</td>\n",
       "    </tr>\n",
       "    <tr>\n",
       "      <th>3</th>\n",
       "      <td>3</td>\n",
       "      <td>score</td>\n",
       "      <td>83</td>\n",
       "    </tr>\n",
       "    <tr>\n",
       "      <th>4</th>\n",
       "      <td>4</td>\n",
       "      <td>score</td>\n",
       "      <td>115</td>\n",
       "    </tr>\n",
       "  </tbody>\n",
       "</table>\n",
       "</div>"
      ],
      "text/plain": [
       "   serial_number variable value\n",
       "0              0    score    65\n",
       "1              1    score    98\n",
       "2              2    score    85\n",
       "3              3    score    83\n",
       "4              4    score   115"
      ]
     },
     "execution_count": 729,
     "metadata": {},
     "output_type": "execute_result"
    }
   ],
   "source": [
    "data.head(5)"
   ]
  },
  {
   "cell_type": "code",
   "execution_count": 730,
   "id": "c4b977c5",
   "metadata": {},
   "outputs": [
    {
     "data": {
      "text/html": [
       "<div>\n",
       "<style scoped>\n",
       "    .dataframe tbody tr th:only-of-type {\n",
       "        vertical-align: middle;\n",
       "    }\n",
       "\n",
       "    .dataframe tbody tr th {\n",
       "        vertical-align: top;\n",
       "    }\n",
       "\n",
       "    .dataframe thead th {\n",
       "        text-align: right;\n",
       "    }\n",
       "</style>\n",
       "<table border=\"1\" class=\"dataframe\">\n",
       "  <thead>\n",
       "    <tr style=\"text-align: right;\">\n",
       "      <th></th>\n",
       "      <th>variable</th>\n",
       "      <th>serial_number</th>\n",
       "    </tr>\n",
       "  </thead>\n",
       "  <tbody>\n",
       "    <tr>\n",
       "      <th>0</th>\n",
       "      <td>a</td>\n",
       "      <td>434</td>\n",
       "    </tr>\n",
       "    <tr>\n",
       "      <th>1</th>\n",
       "      <td>h</td>\n",
       "      <td>434</td>\n",
       "    </tr>\n",
       "    <tr>\n",
       "      <th>2</th>\n",
       "      <td>i</td>\n",
       "      <td>434</td>\n",
       "    </tr>\n",
       "    <tr>\n",
       "      <th>3</th>\n",
       "      <td>score</td>\n",
       "      <td>434</td>\n",
       "    </tr>\n",
       "    <tr>\n",
       "      <th>4</th>\n",
       "      <td>w</td>\n",
       "      <td>434</td>\n",
       "    </tr>\n",
       "  </tbody>\n",
       "</table>\n",
       "</div>"
      ],
      "text/plain": [
       "  variable  serial_number\n",
       "0        a            434\n",
       "1        h            434\n",
       "2        i            434\n",
       "3    score            434\n",
       "4        w            434"
      ]
     },
     "execution_count": 730,
     "metadata": {},
     "output_type": "execute_result"
    }
   ],
   "source": [
    "data.groupby(['variable']).agg({'serial_number':'count'}).reset_index()"
   ]
  },
  {
   "cell_type": "code",
   "execution_count": 731,
   "id": "828ce4b4",
   "metadata": {},
   "outputs": [],
   "source": [
    "number_of_variables = data['variable'].nunique()"
   ]
  },
  {
   "cell_type": "code",
   "execution_count": 732,
   "id": "653a0e8c",
   "metadata": {},
   "outputs": [],
   "source": [
    "number_of_rows = 434"
   ]
  },
  {
   "cell_type": "code",
   "execution_count": 733,
   "id": "b1d4469e",
   "metadata": {},
   "outputs": [
    {
     "name": "stdout",
     "output_type": "stream",
     "text": [
      "['Variable score from serial_number 0 to 433']\n",
      "['Variable h from serial_number 434 to 867']\n",
      "['Variable i from serial_number 868 to 1301']\n",
      "['Variable w from serial_number 1302 to 1735']\n",
      "['Variable a from serial_number 1736 to 2169']\n"
     ]
    }
   ],
   "source": [
    "for i in range(number_of_variables):\n",
    "    print(\"Variable \" + data.loc[number_of_rows*i:number_of_rows*(i+1)-1,'variable'].unique() + \" from serial_number \" + str(number_of_rows*i) + \" to \" + str(number_of_rows*(i+1)-1))"
   ]
  },
  {
   "cell_type": "markdown",
   "id": "33d70294",
   "metadata": {},
   "source": [
    "### As each variable has 434 rows it looks like there are 434 data points and each variable has just been appended as row in the rext file. So, we need to convert this to a dataframe with 434 rows and each variable as a column."
   ]
  },
  {
   "cell_type": "code",
   "execution_count": 734,
   "id": "cbc716e6",
   "metadata": {},
   "outputs": [],
   "source": [
    "for i in range(number_of_variables):\n",
    "    for j in range(0,number_of_rows):\n",
    "        data.loc[(number_of_rows*i)+j,'row_number'] = j"
   ]
  },
  {
   "cell_type": "code",
   "execution_count": 735,
   "id": "017ee7a0",
   "metadata": {},
   "outputs": [],
   "source": [
    "data = data.astype({'row_number':'int'})"
   ]
  },
  {
   "cell_type": "code",
   "execution_count": 736,
   "id": "c54cda30",
   "metadata": {},
   "outputs": [
    {
     "data": {
      "text/html": [
       "<div>\n",
       "<style scoped>\n",
       "    .dataframe tbody tr th:only-of-type {\n",
       "        vertical-align: middle;\n",
       "    }\n",
       "\n",
       "    .dataframe tbody tr th {\n",
       "        vertical-align: top;\n",
       "    }\n",
       "\n",
       "    .dataframe thead th {\n",
       "        text-align: right;\n",
       "    }\n",
       "</style>\n",
       "<table border=\"1\" class=\"dataframe\">\n",
       "  <thead>\n",
       "    <tr style=\"text-align: right;\">\n",
       "      <th></th>\n",
       "      <th>serial_number</th>\n",
       "      <th>variable</th>\n",
       "      <th>value</th>\n",
       "      <th>row_number</th>\n",
       "    </tr>\n",
       "  </thead>\n",
       "  <tbody>\n",
       "    <tr>\n",
       "      <th>0</th>\n",
       "      <td>0</td>\n",
       "      <td>score</td>\n",
       "      <td>65</td>\n",
       "      <td>0</td>\n",
       "    </tr>\n",
       "    <tr>\n",
       "      <th>1</th>\n",
       "      <td>1</td>\n",
       "      <td>score</td>\n",
       "      <td>98</td>\n",
       "      <td>1</td>\n",
       "    </tr>\n",
       "    <tr>\n",
       "      <th>2</th>\n",
       "      <td>2</td>\n",
       "      <td>score</td>\n",
       "      <td>85</td>\n",
       "      <td>2</td>\n",
       "    </tr>\n",
       "    <tr>\n",
       "      <th>3</th>\n",
       "      <td>3</td>\n",
       "      <td>score</td>\n",
       "      <td>83</td>\n",
       "      <td>3</td>\n",
       "    </tr>\n",
       "    <tr>\n",
       "      <th>4</th>\n",
       "      <td>4</td>\n",
       "      <td>score</td>\n",
       "      <td>115</td>\n",
       "      <td>4</td>\n",
       "    </tr>\n",
       "    <tr>\n",
       "      <th>...</th>\n",
       "      <td>...</td>\n",
       "      <td>...</td>\n",
       "      <td>...</td>\n",
       "      <td>...</td>\n",
       "    </tr>\n",
       "    <tr>\n",
       "      <th>2165</th>\n",
       "      <td>2165</td>\n",
       "      <td>a</td>\n",
       "      <td>21</td>\n",
       "      <td>429</td>\n",
       "    </tr>\n",
       "    <tr>\n",
       "      <th>2166</th>\n",
       "      <td>2166</td>\n",
       "      <td>a</td>\n",
       "      <td>23</td>\n",
       "      <td>430</td>\n",
       "    </tr>\n",
       "    <tr>\n",
       "      <th>2167</th>\n",
       "      <td>2167</td>\n",
       "      <td>a</td>\n",
       "      <td>24</td>\n",
       "      <td>431</td>\n",
       "    </tr>\n",
       "    <tr>\n",
       "      <th>2168</th>\n",
       "      <td>2168</td>\n",
       "      <td>a</td>\n",
       "      <td>21</td>\n",
       "      <td>432</td>\n",
       "    </tr>\n",
       "    <tr>\n",
       "      <th>2169</th>\n",
       "      <td>2169</td>\n",
       "      <td>a</td>\n",
       "      <td>25</td>\n",
       "      <td>433</td>\n",
       "    </tr>\n",
       "  </tbody>\n",
       "</table>\n",
       "<p>2170 rows × 4 columns</p>\n",
       "</div>"
      ],
      "text/plain": [
       "      serial_number variable value  row_number\n",
       "0                 0    score    65           0\n",
       "1                 1    score    98           1\n",
       "2                 2    score    85           2\n",
       "3                 3    score    83           3\n",
       "4                 4    score   115           4\n",
       "...             ...      ...   ...         ...\n",
       "2165           2165        a    21         429\n",
       "2166           2166        a    23         430\n",
       "2167           2167        a    24         431\n",
       "2168           2168        a    21         432\n",
       "2169           2169        a    25         433\n",
       "\n",
       "[2170 rows x 4 columns]"
      ]
     },
     "execution_count": 736,
     "metadata": {},
     "output_type": "execute_result"
    }
   ],
   "source": [
    "data"
   ]
  },
  {
   "cell_type": "code",
   "execution_count": 737,
   "id": "62ecf206",
   "metadata": {},
   "outputs": [],
   "source": [
    "data = data.pivot(index='row_number', columns='variable', values='value').reset_index().drop(['row_number'], axis=1)"
   ]
  },
  {
   "cell_type": "code",
   "execution_count": 738,
   "id": "0e942789",
   "metadata": {},
   "outputs": [
    {
     "data": {
      "text/html": [
       "<div>\n",
       "<style scoped>\n",
       "    .dataframe tbody tr th:only-of-type {\n",
       "        vertical-align: middle;\n",
       "    }\n",
       "\n",
       "    .dataframe tbody tr th {\n",
       "        vertical-align: top;\n",
       "    }\n",
       "\n",
       "    .dataframe thead th {\n",
       "        text-align: right;\n",
       "    }\n",
       "</style>\n",
       "<table border=\"1\" class=\"dataframe\">\n",
       "  <thead>\n",
       "    <tr style=\"text-align: right;\">\n",
       "      <th>variable</th>\n",
       "      <th>a</th>\n",
       "      <th>h</th>\n",
       "      <th>i</th>\n",
       "      <th>score</th>\n",
       "      <th>w</th>\n",
       "    </tr>\n",
       "  </thead>\n",
       "  <tbody>\n",
       "    <tr>\n",
       "      <th>0</th>\n",
       "      <td>27</td>\n",
       "      <td>1</td>\n",
       "      <td>'121.117528602603'</td>\n",
       "      <td>65</td>\n",
       "      <td>4</td>\n",
       "    </tr>\n",
       "    <tr>\n",
       "      <th>1</th>\n",
       "      <td>25</td>\n",
       "      <td>1</td>\n",
       "      <td>'89.3618817100663'</td>\n",
       "      <td>98</td>\n",
       "      <td>4</td>\n",
       "    </tr>\n",
       "    <tr>\n",
       "      <th>2</th>\n",
       "      <td>27</td>\n",
       "      <td>1</td>\n",
       "      <td>'115.443164881725'</td>\n",
       "      <td>85</td>\n",
       "      <td>4</td>\n",
       "    </tr>\n",
       "    <tr>\n",
       "      <th>3</th>\n",
       "      <td>25</td>\n",
       "      <td>1</td>\n",
       "      <td>'99.4496394360723'</td>\n",
       "      <td>83</td>\n",
       "      <td>3</td>\n",
       "    </tr>\n",
       "    <tr>\n",
       "      <th>4</th>\n",
       "      <td>27</td>\n",
       "      <td>1</td>\n",
       "      <td>'92.7457099982118'</td>\n",
       "      <td>115</td>\n",
       "      <td>4</td>\n",
       "    </tr>\n",
       "    <tr>\n",
       "      <th>...</th>\n",
       "      <td>...</td>\n",
       "      <td>...</td>\n",
       "      <td>...</td>\n",
       "      <td>...</td>\n",
       "      <td>...</td>\n",
       "    </tr>\n",
       "    <tr>\n",
       "      <th>429</th>\n",
       "      <td>21</td>\n",
       "      <td>0</td>\n",
       "      <td>'84.8774118257353'</td>\n",
       "      <td>94</td>\n",
       "      <td>4</td>\n",
       "    </tr>\n",
       "    <tr>\n",
       "      <th>430</th>\n",
       "      <td>23</td>\n",
       "      <td>1</td>\n",
       "      <td>'92.9903917236843'</td>\n",
       "      <td>76</td>\n",
       "      <td>4</td>\n",
       "    </tr>\n",
       "    <tr>\n",
       "      <th>431</th>\n",
       "      <td>24</td>\n",
       "      <td>0</td>\n",
       "      <td>'94.8597081943671'</td>\n",
       "      <td>50</td>\n",
       "      <td>2</td>\n",
       "    </tr>\n",
       "    <tr>\n",
       "      <th>432</th>\n",
       "      <td>21</td>\n",
       "      <td>1</td>\n",
       "      <td>'96.8566241253673'</td>\n",
       "      <td>88</td>\n",
       "      <td>2</td>\n",
       "    </tr>\n",
       "    <tr>\n",
       "      <th>433</th>\n",
       "      <td>25</td>\n",
       "      <td>1</td>\n",
       "      <td>'91.2533362836924'</td>\n",
       "      <td>70</td>\n",
       "      <td>2</td>\n",
       "    </tr>\n",
       "  </tbody>\n",
       "</table>\n",
       "<p>434 rows × 5 columns</p>\n",
       "</div>"
      ],
      "text/plain": [
       "variable   a  h                   i score  w\n",
       "0         27  1  '121.117528602603'    65  4\n",
       "1         25  1  '89.3618817100663'    98  4\n",
       "2         27  1  '115.443164881725'    85  4\n",
       "3         25  1  '99.4496394360723'    83  3\n",
       "4         27  1  '92.7457099982118'   115  4\n",
       "..        .. ..                 ...   ... ..\n",
       "429       21  0  '84.8774118257353'    94  4\n",
       "430       23  1  '92.9903917236843'    76  4\n",
       "431       24  0  '94.8597081943671'    50  2\n",
       "432       21  1  '96.8566241253673'    88  2\n",
       "433       25  1  '91.2533362836924'    70  2\n",
       "\n",
       "[434 rows x 5 columns]"
      ]
     },
     "execution_count": 738,
     "metadata": {},
     "output_type": "execute_result"
    }
   ],
   "source": [
    "data"
   ]
  },
  {
   "cell_type": "markdown",
   "id": "6f9117e6",
   "metadata": {},
   "source": [
    "### As the data in column 'i' has quotes in data, this needs to be removed. Also, we need to convert the datatype of each column to int/float."
   ]
  },
  {
   "cell_type": "code",
   "execution_count": 739,
   "id": "45055f53",
   "metadata": {},
   "outputs": [],
   "source": [
    "data['i'] = data['i'].apply(lambda x: x.strip(\"\\'\"))"
   ]
  },
  {
   "cell_type": "code",
   "execution_count": 740,
   "id": "5c46c927",
   "metadata": {},
   "outputs": [],
   "source": [
    "data = data.astype({'a':'int','i':'float','score':'int'})"
   ]
  },
  {
   "cell_type": "code",
   "execution_count": 741,
   "id": "02994034",
   "metadata": {},
   "outputs": [
    {
     "data": {
      "text/html": [
       "<div>\n",
       "<style scoped>\n",
       "    .dataframe tbody tr th:only-of-type {\n",
       "        vertical-align: middle;\n",
       "    }\n",
       "\n",
       "    .dataframe tbody tr th {\n",
       "        vertical-align: top;\n",
       "    }\n",
       "\n",
       "    .dataframe thead th {\n",
       "        text-align: right;\n",
       "    }\n",
       "</style>\n",
       "<table border=\"1\" class=\"dataframe\">\n",
       "  <thead>\n",
       "    <tr style=\"text-align: right;\">\n",
       "      <th>variable</th>\n",
       "      <th>a</th>\n",
       "      <th>h</th>\n",
       "      <th>i</th>\n",
       "      <th>score</th>\n",
       "      <th>w</th>\n",
       "    </tr>\n",
       "  </thead>\n",
       "  <tbody>\n",
       "    <tr>\n",
       "      <th>0</th>\n",
       "      <td>27</td>\n",
       "      <td>1</td>\n",
       "      <td>121.117529</td>\n",
       "      <td>65</td>\n",
       "      <td>4</td>\n",
       "    </tr>\n",
       "    <tr>\n",
       "      <th>1</th>\n",
       "      <td>25</td>\n",
       "      <td>1</td>\n",
       "      <td>89.361882</td>\n",
       "      <td>98</td>\n",
       "      <td>4</td>\n",
       "    </tr>\n",
       "    <tr>\n",
       "      <th>2</th>\n",
       "      <td>27</td>\n",
       "      <td>1</td>\n",
       "      <td>115.443165</td>\n",
       "      <td>85</td>\n",
       "      <td>4</td>\n",
       "    </tr>\n",
       "    <tr>\n",
       "      <th>3</th>\n",
       "      <td>25</td>\n",
       "      <td>1</td>\n",
       "      <td>99.449639</td>\n",
       "      <td>83</td>\n",
       "      <td>3</td>\n",
       "    </tr>\n",
       "    <tr>\n",
       "      <th>4</th>\n",
       "      <td>27</td>\n",
       "      <td>1</td>\n",
       "      <td>92.745710</td>\n",
       "      <td>115</td>\n",
       "      <td>4</td>\n",
       "    </tr>\n",
       "    <tr>\n",
       "      <th>...</th>\n",
       "      <td>...</td>\n",
       "      <td>...</td>\n",
       "      <td>...</td>\n",
       "      <td>...</td>\n",
       "      <td>...</td>\n",
       "    </tr>\n",
       "    <tr>\n",
       "      <th>429</th>\n",
       "      <td>21</td>\n",
       "      <td>0</td>\n",
       "      <td>84.877412</td>\n",
       "      <td>94</td>\n",
       "      <td>4</td>\n",
       "    </tr>\n",
       "    <tr>\n",
       "      <th>430</th>\n",
       "      <td>23</td>\n",
       "      <td>1</td>\n",
       "      <td>92.990392</td>\n",
       "      <td>76</td>\n",
       "      <td>4</td>\n",
       "    </tr>\n",
       "    <tr>\n",
       "      <th>431</th>\n",
       "      <td>24</td>\n",
       "      <td>0</td>\n",
       "      <td>94.859708</td>\n",
       "      <td>50</td>\n",
       "      <td>2</td>\n",
       "    </tr>\n",
       "    <tr>\n",
       "      <th>432</th>\n",
       "      <td>21</td>\n",
       "      <td>1</td>\n",
       "      <td>96.856624</td>\n",
       "      <td>88</td>\n",
       "      <td>2</td>\n",
       "    </tr>\n",
       "    <tr>\n",
       "      <th>433</th>\n",
       "      <td>25</td>\n",
       "      <td>1</td>\n",
       "      <td>91.253336</td>\n",
       "      <td>70</td>\n",
       "      <td>2</td>\n",
       "    </tr>\n",
       "  </tbody>\n",
       "</table>\n",
       "<p>434 rows × 5 columns</p>\n",
       "</div>"
      ],
      "text/plain": [
       "variable   a  h           i  score  w\n",
       "0         27  1  121.117529     65  4\n",
       "1         25  1   89.361882     98  4\n",
       "2         27  1  115.443165     85  4\n",
       "3         25  1   99.449639     83  3\n",
       "4         27  1   92.745710    115  4\n",
       "..        .. ..         ...    ... ..\n",
       "429       21  0   84.877412     94  4\n",
       "430       23  1   92.990392     76  4\n",
       "431       24  0   94.859708     50  2\n",
       "432       21  1   96.856624     88  2\n",
       "433       25  1   91.253336     70  2\n",
       "\n",
       "[434 rows x 5 columns]"
      ]
     },
     "execution_count": 741,
     "metadata": {},
     "output_type": "execute_result"
    }
   ],
   "source": [
    "data"
   ]
  },
  {
   "cell_type": "code",
   "execution_count": 742,
   "id": "29b35c4a",
   "metadata": {},
   "outputs": [
    {
     "name": "stdout",
     "output_type": "stream",
     "text": [
      "<class 'pandas.core.frame.DataFrame'>\n",
      "RangeIndex: 434 entries, 0 to 433\n",
      "Data columns (total 5 columns):\n",
      " #   Column  Non-Null Count  Dtype  \n",
      "---  ------  --------------  -----  \n",
      " 0   a       434 non-null    int64  \n",
      " 1   h       434 non-null    object \n",
      " 2   i       434 non-null    float64\n",
      " 3   score   434 non-null    int64  \n",
      " 4   w       434 non-null    object \n",
      "dtypes: float64(1), int64(2), object(2)\n",
      "memory usage: 17.1+ KB\n"
     ]
    }
   ],
   "source": [
    "data.info()"
   ]
  },
  {
   "cell_type": "markdown",
   "id": "a0a00316",
   "metadata": {},
   "source": [
    "As h & i column corresponds to completion of high school by mother & working condition of the mother in the first three years after child birth respectively which has various categories under them. The datatype should be an object."
   ]
  },
  {
   "cell_type": "markdown",
   "id": "19221c7f",
   "metadata": {},
   "source": [
    "## Renaming columns so that they make sense to everyone"
   ]
  },
  {
   "cell_type": "code",
   "execution_count": 743,
   "id": "e30e9e7f",
   "metadata": {},
   "outputs": [],
   "source": [
    "data = data.rename(columns={'a':'mother_age','h':'mother_high_school_flag','i':'IQ_of_the_mother','score':'IQ_of_the_child','w':'working_condition_of_mother'})\n"
   ]
  },
  {
   "cell_type": "code",
   "execution_count": 744,
   "id": "fd4d5a8d",
   "metadata": {},
   "outputs": [
    {
     "data": {
      "text/html": [
       "<div>\n",
       "<style scoped>\n",
       "    .dataframe tbody tr th:only-of-type {\n",
       "        vertical-align: middle;\n",
       "    }\n",
       "\n",
       "    .dataframe tbody tr th {\n",
       "        vertical-align: top;\n",
       "    }\n",
       "\n",
       "    .dataframe thead th {\n",
       "        text-align: right;\n",
       "    }\n",
       "</style>\n",
       "<table border=\"1\" class=\"dataframe\">\n",
       "  <thead>\n",
       "    <tr style=\"text-align: right;\">\n",
       "      <th>variable</th>\n",
       "      <th>mother_age</th>\n",
       "      <th>mother_high_school_flag</th>\n",
       "      <th>IQ_of_the_mother</th>\n",
       "      <th>IQ_of_the_child</th>\n",
       "      <th>working_condition_of_mother</th>\n",
       "    </tr>\n",
       "  </thead>\n",
       "  <tbody>\n",
       "    <tr>\n",
       "      <th>0</th>\n",
       "      <td>27</td>\n",
       "      <td>1</td>\n",
       "      <td>121.117529</td>\n",
       "      <td>65</td>\n",
       "      <td>4</td>\n",
       "    </tr>\n",
       "    <tr>\n",
       "      <th>1</th>\n",
       "      <td>25</td>\n",
       "      <td>1</td>\n",
       "      <td>89.361882</td>\n",
       "      <td>98</td>\n",
       "      <td>4</td>\n",
       "    </tr>\n",
       "    <tr>\n",
       "      <th>2</th>\n",
       "      <td>27</td>\n",
       "      <td>1</td>\n",
       "      <td>115.443165</td>\n",
       "      <td>85</td>\n",
       "      <td>4</td>\n",
       "    </tr>\n",
       "    <tr>\n",
       "      <th>3</th>\n",
       "      <td>25</td>\n",
       "      <td>1</td>\n",
       "      <td>99.449639</td>\n",
       "      <td>83</td>\n",
       "      <td>3</td>\n",
       "    </tr>\n",
       "    <tr>\n",
       "      <th>4</th>\n",
       "      <td>27</td>\n",
       "      <td>1</td>\n",
       "      <td>92.745710</td>\n",
       "      <td>115</td>\n",
       "      <td>4</td>\n",
       "    </tr>\n",
       "    <tr>\n",
       "      <th>...</th>\n",
       "      <td>...</td>\n",
       "      <td>...</td>\n",
       "      <td>...</td>\n",
       "      <td>...</td>\n",
       "      <td>...</td>\n",
       "    </tr>\n",
       "    <tr>\n",
       "      <th>429</th>\n",
       "      <td>21</td>\n",
       "      <td>0</td>\n",
       "      <td>84.877412</td>\n",
       "      <td>94</td>\n",
       "      <td>4</td>\n",
       "    </tr>\n",
       "    <tr>\n",
       "      <th>430</th>\n",
       "      <td>23</td>\n",
       "      <td>1</td>\n",
       "      <td>92.990392</td>\n",
       "      <td>76</td>\n",
       "      <td>4</td>\n",
       "    </tr>\n",
       "    <tr>\n",
       "      <th>431</th>\n",
       "      <td>24</td>\n",
       "      <td>0</td>\n",
       "      <td>94.859708</td>\n",
       "      <td>50</td>\n",
       "      <td>2</td>\n",
       "    </tr>\n",
       "    <tr>\n",
       "      <th>432</th>\n",
       "      <td>21</td>\n",
       "      <td>1</td>\n",
       "      <td>96.856624</td>\n",
       "      <td>88</td>\n",
       "      <td>2</td>\n",
       "    </tr>\n",
       "    <tr>\n",
       "      <th>433</th>\n",
       "      <td>25</td>\n",
       "      <td>1</td>\n",
       "      <td>91.253336</td>\n",
       "      <td>70</td>\n",
       "      <td>2</td>\n",
       "    </tr>\n",
       "  </tbody>\n",
       "</table>\n",
       "<p>434 rows × 5 columns</p>\n",
       "</div>"
      ],
      "text/plain": [
       "variable  mother_age mother_high_school_flag  IQ_of_the_mother  \\\n",
       "0                 27                       1        121.117529   \n",
       "1                 25                       1         89.361882   \n",
       "2                 27                       1        115.443165   \n",
       "3                 25                       1         99.449639   \n",
       "4                 27                       1         92.745710   \n",
       "..               ...                     ...               ...   \n",
       "429               21                       0         84.877412   \n",
       "430               23                       1         92.990392   \n",
       "431               24                       0         94.859708   \n",
       "432               21                       1         96.856624   \n",
       "433               25                       1         91.253336   \n",
       "\n",
       "variable  IQ_of_the_child working_condition_of_mother  \n",
       "0                      65                           4  \n",
       "1                      98                           4  \n",
       "2                      85                           4  \n",
       "3                      83                           3  \n",
       "4                     115                           4  \n",
       "..                    ...                         ...  \n",
       "429                    94                           4  \n",
       "430                    76                           4  \n",
       "431                    50                           2  \n",
       "432                    88                           2  \n",
       "433                    70                           2  \n",
       "\n",
       "[434 rows x 5 columns]"
      ]
     },
     "execution_count": 744,
     "metadata": {},
     "output_type": "execute_result"
    }
   ],
   "source": [
    "data"
   ]
  },
  {
   "cell_type": "markdown",
   "id": "12e27f56",
   "metadata": {},
   "source": [
    "**Renaming**\n",
    "1. 'a' is renamed to 'mother_age' as it describes age of mother at child's birth.\n",
    "2. 'h' is renamed to 'mother_high_school_flag' as it describes completion of high school by mother. If she completed it, it is 1 otherwise 0.\n",
    "3. 'i' is renamed to 'IQ_of_the_mother' as it describes the Mother's IQ.\n",
    "4. 'score' is renamed to 'IQ_of_the_child' as it describes the Child's IQ.\n",
    "5. 'w' is renamed to 'working_condition_of_mother' as it describes the working condition of the mother in the first three years after child birth."
   ]
  },
  {
   "cell_type": "markdown",
   "id": "a066e75d",
   "metadata": {},
   "source": [
    "## <font color='blue'><u>EDA</u></font>"
   ]
  },
  {
   "cell_type": "markdown",
   "id": "8c618094",
   "metadata": {},
   "source": [
    "### Checking missing values"
   ]
  },
  {
   "cell_type": "code",
   "execution_count": 745,
   "id": "0e0af6e3",
   "metadata": {},
   "outputs": [
    {
     "data": {
      "text/plain": [
       "variable\n",
       "mother_age                     0\n",
       "mother_high_school_flag        0\n",
       "IQ_of_the_mother               0\n",
       "IQ_of_the_child                0\n",
       "working_condition_of_mother    0\n",
       "dtype: int64"
      ]
     },
     "execution_count": 745,
     "metadata": {},
     "output_type": "execute_result"
    }
   ],
   "source": [
    "data.isnull().sum()"
   ]
  },
  {
   "cell_type": "markdown",
   "id": "18cf17c4",
   "metadata": {},
   "source": [
    "No Missing data"
   ]
  },
  {
   "cell_type": "markdown",
   "id": "957c61f8",
   "metadata": {},
   "source": [
    "### Univariate Plots"
   ]
  },
  {
   "cell_type": "code",
   "execution_count": 746,
   "id": "c2c0d081",
   "metadata": {},
   "outputs": [
    {
     "data": {
      "image/png": "[encoded data removed]",
      "text/plain": [
       "<Figure size 1080x1080 with 3 Axes>"
      ]
     },
     "metadata": {
      "needs_background": "light"
     },
     "output_type": "display_data"
    }
   ],
   "source": [
    "fig = plt.figure(figsize = (15,15))\n",
    "\n",
    "ax1 = plt.subplot2grid((3,1),(0,0),rowspan =1,colspan = 1)\n",
    "ax1.hist(data['IQ_of_the_child'], bins=40, density = True)\n",
    "sns.kdeplot(data['IQ_of_the_child'])\n",
    "ax1.set_title('Distribution of Child\\'s IQ (Target)', fontsize=14)\n",
    "ax1.set_xlabel('Child\\'s IQ',fontsize = 12)\n",
    "ax1.set_ylabel('Count',fontsize = 12)\n",
    "\n",
    "\n",
    "ax1 = plt.subplot2grid((3,1),(1,0),rowspan =1,colspan = 1)\n",
    "ax1.hist(data['IQ_of_the_mother'], bins=40, density = True)\n",
    "sns.kdeplot(data['IQ_of_the_mother'])\n",
    "ax1.set_title('Distribution of Mother\\'s IQ', fontsize=14)\n",
    "ax1.set_xlabel('Mother\\'s IQ',fontsize = 12)\n",
    "ax1.set_ylabel('Count',fontsize = 12)\n",
    "\n",
    "\n",
    "\n",
    "ax1 = plt.subplot2grid((3,1),(2,0),rowspan =1,colspan = 1)\n",
    "ax1.hist(data['mother_age'], bins=40, density = True)\n",
    "sns.kdeplot(data['mother_age'])\n",
    "ax1.set_title('Distribution of Mother\\'s age when the child was born', fontsize=14)\n",
    "ax1.set_xlabel('Age of the mother when child was born',fontsize = 12)\n",
    "ax1.set_ylabel('Count',fontsize = 12)\n",
    "\n",
    "\n",
    "plt.tight_layout(h_pad = 3,w_pad = 3)\n",
    "plt.show()"
   ]
  },
  {
   "cell_type": "code",
   "execution_count": 747,
   "id": "a541ca32",
   "metadata": {},
   "outputs": [
    {
     "data": {
      "text/plain": [
       "array([27, 25, 18, 20, 23, 24, 19, 26, 17, 21, 22, 28, 29])"
      ]
     },
     "execution_count": 747,
     "metadata": {},
     "output_type": "execute_result"
    }
   ],
   "source": [
    "data['mother_age'].unique()"
   ]
  },
  {
   "cell_type": "code",
   "execution_count": 748,
   "id": "ea59190d",
   "metadata": {},
   "outputs": [
    {
     "data": {
      "text/plain": [
       "17     4\n",
       "18    12\n",
       "19    40\n",
       "20    40\n",
       "21    52\n",
       "22    57\n",
       "23    63\n",
       "24    48\n",
       "25    40\n",
       "26    36\n",
       "27    21\n",
       "28    14\n",
       "29     7\n",
       "Name: mother_age, dtype: int64"
      ]
     },
     "execution_count": 748,
     "metadata": {},
     "output_type": "execute_result"
    }
   ],
   "source": [
    "data['mother_age'].value_counts().sort_index()"
   ]
  },
  {
   "cell_type": "markdown",
   "id": "f8325eea",
   "metadata": {},
   "source": [
    "**Observations**\n",
    "1. Mother's IQ & child's IQ both have continuous value and doesn't have a gap.\n",
    "2. Mother's Age has discrete valaues. There are many discrete values so it makes sense to binn them together as get less number of categories."
   ]
  },
  {
   "cell_type": "code",
   "execution_count": 749,
   "id": "e98ba212",
   "metadata": {},
   "outputs": [],
   "source": [
    "def mother_age_binning(data):\n",
    "    if data['mother_age'] >= 17 and data['mother_age'] < 20:\n",
    "        return '17-19'\n",
    "    elif data['mother_age'] >= 20 and data['mother_age'] < 23:\n",
    "        return '20-22'\n",
    "    elif data['mother_age'] >= 23 and data['mother_age'] < 26:\n",
    "        return '23-25'\n",
    "    else:\n",
    "        return '25+'"
   ]
  },
  {
   "cell_type": "code",
   "execution_count": 750,
   "id": "37ba7538",
   "metadata": {},
   "outputs": [],
   "source": [
    "data['mother_age_binned'] = data.apply(mother_age_binning, axis=1)"
   ]
  },
  {
   "cell_type": "code",
   "execution_count": 751,
   "id": "61166bbc",
   "metadata": {},
   "outputs": [
    {
     "data": {
      "text/plain": [
       "17-19     56\n",
       "20-22    149\n",
       "23-25    151\n",
       "25+       78\n",
       "Name: mother_age_binned, dtype: int64"
      ]
     },
     "execution_count": 751,
     "metadata": {},
     "output_type": "execute_result"
    }
   ],
   "source": [
    "data['mother_age_binned'].value_counts().sort_index()"
   ]
  },
  {
   "cell_type": "markdown",
   "id": "11098cb3",
   "metadata": {},
   "source": [
    "### Variables w.r.t target variable"
   ]
  },
  {
   "cell_type": "code",
   "execution_count": 752,
   "id": "3d64d146",
   "metadata": {},
   "outputs": [
    {
     "data": {
      "image/png": "[encoded data removed]",
      "text/plain": [
       "<Figure size 1080x1080 with 5 Axes>"
      ]
     },
     "metadata": {
      "needs_background": "light"
     },
     "output_type": "display_data"
    }
   ],
   "source": [
    "plt.figure(figsize = (15,15))\n",
    "ax1 = plt.subplot2grid((3,2),(0,0),rowspan=1,colspan=1)\n",
    "sns.regplot(data.mother_age, data.IQ_of_the_child, ax=ax1)\n",
    "ax1.set_title('Mother\\' Age vs Child\\'s IQ',fontsize = 14)\n",
    "ax1.set_xlabel('Age of mother at child\\'s birth',fontsize = 12)\n",
    "ax1.set_ylabel('Child\\'s IQ',fontsize = 12)\n",
    "\n",
    "ax1 = plt.subplot2grid((3,2),(0,1),rowspan=1,colspan=1)\n",
    "sns.regplot(data.IQ_of_the_mother, data.IQ_of_the_child, ax=ax1)\n",
    "ax1.set_title('Mother\\' IQ vs Child\\'s IQ',fontsize = 14)\n",
    "ax1.set_xlabel('Mother\\'s IQ',fontsize = 12)\n",
    "ax1.set_ylabel('Child\\'s IQ',fontsize = 12)\n",
    "\n",
    "\n",
    "ax1 = plt.subplot2grid((3,2),(1,0),rowspan=1,colspan=1)\n",
    "ax1.boxplot([data.loc[data['mother_high_school_flag'] == '0','IQ_of_the_child'],data.loc[data['mother_high_school_flag'] == '1','IQ_of_the_child']],labels = ['Mother did not complete high school','Mother completed high school'])\n",
    "ax1.set_title('Mother\\'s completion of High School vs Child\\'s IQ',fontsize = 14)\n",
    "ax1.set_xlabel('Mother\\'s completion of High School',fontsize = 12)\n",
    "ax1.set_ylabel('Child\\'s IQ',fontsize = 12)\n",
    "\n",
    "ax1 = plt.subplot2grid((3,2),(1,1),rowspan=1,colspan=1)\n",
    "ax1.boxplot([data.loc[data['working_condition_of_mother'] == '1','IQ_of_the_child'],data.loc[data['working_condition_of_mother'] == '2','IQ_of_the_child'], data.loc[data['working_condition_of_mother'] == '3','IQ_of_the_child'], data.loc[data['working_condition_of_mother'] == '4','IQ_of_the_child']],labels = [ '\\n'.join(wrap(l, 20)) for l in ['Mother did not work in first 3 years','Mother worked in the 2nd & 3rd year','Mother worked part time in the 1st year','Mother worked full time in the 1st year']])\n",
    "ax1.set_title('Mother\\'s working condition after Child\\'s Birth vs Child\\'s IQ',fontsize = 14)\n",
    "ax1.set_xlabel('Mother\\'s working condition after Child\\'s Birth',fontsize = 12)\n",
    "ax1.set_ylabel('Child\\'s IQ',fontsize = 12)\n",
    "\n",
    "ax1 = plt.subplot2grid((3,2),(2,0),rowspan=1,colspan=2)\n",
    "ax1.boxplot([data.loc[data['mother_age_binned'] == '17-19','IQ_of_the_child'],data.loc[data['mother_age_binned'] == '20-22','IQ_of_the_child'],data.loc[data['mother_age_binned'] == '23-25','IQ_of_the_child'],data.loc[data['mother_age_binned'] == '25+','IQ_of_the_child']],labels = ['17-19','20-22','23-25','25+'])\n",
    "ax1.set_title('Mother\\' Age vs Child\\'s IQ',fontsize = 14)\n",
    "ax1.set_xlabel('Age of mother at child\\'s birth (binned)',fontsize = 12)\n",
    "ax1.set_ylabel('Child\\'s IQ',fontsize = 12)\n",
    "\n",
    "plt.tight_layout(h_pad = 2,w_pad = 3)\n",
    "plt.show()"
   ]
  },
  {
   "cell_type": "markdown",
   "id": "b4f07832",
   "metadata": {},
   "source": [
    "**Observations:**\n",
    "1. Age of Mother doesn't seem to have a lot of impact on child's IQ. As the line of best fit is almost flat.\n",
    "2. There seems to be a positive correlation between Mother's IQ and Child's IQ.\n",
    "3. Mother who has completed high school seems to have child with higher IQ. As the boxplot for mother's that have completed high school is clearly higher as compared to Mother's who have not completed high school\n",
    "4. Mother who was working part-time in the first year seems to have child with higher IQ. "
   ]
  },
  {
   "cell_type": "markdown",
   "id": "3104dee5",
   "metadata": {},
   "source": [
    "## Performing statistical tests to understand if the features are statistically significant in predicting for Child's IQ"
   ]
  },
  {
   "cell_type": "markdown",
   "id": "d5cf007d",
   "metadata": {},
   "source": [
    "1. <u> mother_high_school_flag </u>"
   ]
  },
  {
   "cell_type": "markdown",
   "id": "0594629f",
   "metadata": {},
   "source": [
    "For mother_high_school_flag as there are two categories, we can perform two sample t-test to verify statistically if it is significant. But, to do so we need to ensure that the two subsets i.e. mother_high_school_flag=1 & mother_high_school_flag=0 are normally distributed as it is one of the assumption of t-test."
   ]
  },
  {
   "cell_type": "code",
   "execution_count": 765,
   "id": "ad4496d7",
   "metadata": {},
   "outputs": [
    {
     "data": {
      "text/plain": [
       "ShapiroResult(statistic=0.9780992865562439, pvalue=4.6810542698949575e-05)"
      ]
     },
     "execution_count": 765,
     "metadata": {},
     "output_type": "execute_result"
    }
   ],
   "source": [
    "shapiro(data.loc[data['mother_high_school_flag']=='1','IQ_of_the_child'])"
   ]
  },
  {
   "cell_type": "code",
   "execution_count": 766,
   "id": "20d80e48",
   "metadata": {},
   "outputs": [
    {
     "data": {
      "text/plain": [
       "ShapiroResult(statistic=0.9641686081886292, pvalue=0.011815228499472141)"
      ]
     },
     "execution_count": 766,
     "metadata": {},
     "output_type": "execute_result"
    }
   ],
   "source": [
    "shapiro(data.loc[data['mother_high_school_flag']=='0','IQ_of_the_child'])"
   ]
  },
  {
   "cell_type": "markdown",
   "id": "31fdc6db",
   "metadata": {},
   "source": [
    "As the two subsets of data have pvalue < 0.05, we reject the null hypothesis and we can statistically say that both the distributions are not normally distributed. Now, as the subsets are not normally distributed, it means we can't perform parametric two sample t-test but would have to go for non-parametric Mann Whitney U test."
   ]
  },
  {
   "cell_type": "code",
   "execution_count": 770,
   "id": "36aa40e7",
   "metadata": {},
   "outputs": [
    {
     "data": {
      "text/plain": [
       "MannwhitneyuResult(statistic=20682.5, pvalue=6.748319364137073e-06)"
      ]
     },
     "execution_count": 770,
     "metadata": {},
     "output_type": "execute_result"
    }
   ],
   "source": [
    "mannwhitneyu(data.loc[data['mother_high_school_flag']=='1','IQ_of_the_child'],data.loc[data['mother_high_school_flag']=='0','IQ_of_the_child'])\n"
   ]
  },
  {
   "cell_type": "markdown",
   "id": "c182bc0d",
   "metadata": {},
   "source": [
    "**<i> As p-value <<< 0.5, high school completion is a <u> very significant </u> feature in predicting Child\\'s IQ.  </i>**"
   ]
  },
  {
   "cell_type": "markdown",
   "id": "30815769",
   "metadata": {},
   "source": [
    "2. <u> mother_age </u>"
   ]
  },
  {
   "cell_type": "markdown",
   "id": "d0e09e21",
   "metadata": {},
   "source": [
    "As mother's age has a lot of discrete values, each discrete value would have very few data points which would make it difficult to do any statistical test. To verify if mother's age is significant, statistical test is performed on the binned mother's age. As there are 4 categories within mother_age_binned we need to perform ANOVA test. But as the ANOVA test require that the subset should follow a normal distribution, we need to first test for normality."
   ]
  },
  {
   "cell_type": "code",
   "execution_count": 772,
   "id": "df82fff9",
   "metadata": {},
   "outputs": [
    {
     "data": {
      "text/plain": [
       "ShapiroResult(statistic=0.9694849848747253, pvalue=0.16648827493190765)"
      ]
     },
     "execution_count": 772,
     "metadata": {},
     "output_type": "execute_result"
    }
   ],
   "source": [
    "shapiro(data.loc[data['mother_age_binned']=='17-19','IQ_of_the_child'])"
   ]
  },
  {
   "cell_type": "code",
   "execution_count": 773,
   "id": "e929aa24",
   "metadata": {},
   "outputs": [
    {
     "data": {
      "text/plain": [
       "ShapiroResult(statistic=0.9771718382835388, pvalue=0.013871666975319386)"
      ]
     },
     "execution_count": 773,
     "metadata": {},
     "output_type": "execute_result"
    }
   ],
   "source": [
    "shapiro(data.loc[data['mother_age_binned']=='20-22','IQ_of_the_child'])"
   ]
  },
  {
   "cell_type": "code",
   "execution_count": 775,
   "id": "18492b89",
   "metadata": {},
   "outputs": [
    {
     "data": {
      "text/plain": [
       "ShapiroResult(statistic=0.9736491441726685, pvalue=0.0053278300911188126)"
      ]
     },
     "execution_count": 775,
     "metadata": {},
     "output_type": "execute_result"
    }
   ],
   "source": [
    "shapiro(data.loc[data['mother_age_binned']=='23-25','IQ_of_the_child'])"
   ]
  },
  {
   "cell_type": "code",
   "execution_count": 774,
   "id": "aeda2850",
   "metadata": {},
   "outputs": [
    {
     "data": {
      "text/plain": [
       "ShapiroResult(statistic=0.9227983355522156, pvalue=0.00015720301598776132)"
      ]
     },
     "execution_count": 774,
     "metadata": {},
     "output_type": "execute_result"
    }
   ],
   "source": [
    "shapiro(data.loc[data['mother_age_binned']=='25+','IQ_of_the_child'])"
   ]
  },
  {
   "cell_type": "markdown",
   "id": "14d80193",
   "metadata": {},
   "source": [
    "Apart from age band of '17-19' all the age bands have p-value < 0.05, it means the null hypothesis will be rejected and we can statistcally say that these subsets are not normally distributed. As they are not normally distributed, we need to perform non-parametric test i.e. Kruskal Walis test."
   ]
  },
  {
   "cell_type": "code",
   "execution_count": 778,
   "id": "c73b5635",
   "metadata": {},
   "outputs": [
    {
     "data": {
      "text/plain": [
       "KruskalResult(statistic=8.531929703475095, pvalue=0.03620708883279042)"
      ]
     },
     "execution_count": 778,
     "metadata": {},
     "output_type": "execute_result"
    }
   ],
   "source": [
    "kruskal(data.loc[data['mother_age_binned']=='17-19','IQ_of_the_child'], data.loc[data['mother_age_binned']=='20-22','IQ_of_the_child'], data.loc[data['mother_age_binned']=='23-25','IQ_of_the_child'],data.loc[data['mother_age_binned']=='25+','IQ_of_the_child'])\n"
   ]
  },
  {
   "cell_type": "markdown",
   "id": "9fc151df",
   "metadata": {},
   "source": [
    "**<i> As p-value < 0.5, high school completion is <u> little significant </u> feature in predicting Child\\'s IQ.  </i>**"
   ]
  },
  {
   "cell_type": "markdown",
   "id": "823c9bed",
   "metadata": {},
   "source": [
    "3. <u> working_condition_of_mother </u>"
   ]
  },
  {
   "cell_type": "markdown",
   "id": "167af2da",
   "metadata": {},
   "source": [
    "As there are 4 categories within working_condition_of_mother we need to perform ANOVA test. But as the ANOVA test require that the subset should follow a normal distribution, we need to first test for normality."
   ]
  },
  {
   "cell_type": "code",
   "execution_count": 784,
   "id": "bc15ec27",
   "metadata": {},
   "outputs": [
    {
     "data": {
      "text/plain": [
       "ShapiroResult(statistic=0.9661527872085571, pvalue=0.037982095032930374)"
      ]
     },
     "execution_count": 784,
     "metadata": {},
     "output_type": "execute_result"
    }
   ],
   "source": [
    "shapiro(data.loc[data['working_condition_of_mother']=='1','IQ_of_the_child'])"
   ]
  },
  {
   "cell_type": "code",
   "execution_count": 785,
   "id": "a015fcfa",
   "metadata": {},
   "outputs": [
    {
     "data": {
      "text/plain": [
       "ShapiroResult(statistic=0.9709827899932861, pvalue=0.031543973833322525)"
      ]
     },
     "execution_count": 785,
     "metadata": {},
     "output_type": "execute_result"
    }
   ],
   "source": [
    "shapiro(data.loc[data['working_condition_of_mother']=='2','IQ_of_the_child'])"
   ]
  },
  {
   "cell_type": "code",
   "execution_count": 786,
   "id": "b7bb829d",
   "metadata": {},
   "outputs": [
    {
     "data": {
      "text/plain": [
       "ShapiroResult(statistic=0.9443325400352478, pvalue=0.011948855593800545)"
      ]
     },
     "execution_count": 786,
     "metadata": {},
     "output_type": "execute_result"
    }
   ],
   "source": [
    "shapiro(data.loc[data['working_condition_of_mother']=='3','IQ_of_the_child'])"
   ]
  },
  {
   "cell_type": "code",
   "execution_count": 787,
   "id": "e0e23d1b",
   "metadata": {},
   "outputs": [
    {
     "data": {
      "text/plain": [
       "ShapiroResult(statistic=0.9719804525375366, pvalue=0.0004119227232877165)"
      ]
     },
     "execution_count": 787,
     "metadata": {},
     "output_type": "execute_result"
    }
   ],
   "source": [
    "shapiro(data.loc[data['working_condition_of_mother']=='4','IQ_of_the_child'])"
   ]
  },
  {
   "cell_type": "markdown",
   "id": "0568feaf",
   "metadata": {},
   "source": [
    "As all working condition subsets have p-value < 0.05, it means the null hypothesis will be rejected and we can statistcally say that these subsets are not normally distributed. As they are not normally distributed, we need to perform non-parametric test i.e. Kruskal Walis test."
   ]
  },
  {
   "cell_type": "code",
   "execution_count": 788,
   "id": "83cffa04",
   "metadata": {},
   "outputs": [
    {
     "data": {
      "text/plain": [
       "KruskalResult(statistic=10.587537543302048, pvalue=0.014178686908068519)"
      ]
     },
     "execution_count": 788,
     "metadata": {},
     "output_type": "execute_result"
    }
   ],
   "source": [
    "kruskal(data.loc[data['working_condition_of_mother']=='1','IQ_of_the_child'],data.loc[data['working_condition_of_mother']=='2','IQ_of_the_child'],data.loc[data['working_condition_of_mother']=='3','IQ_of_the_child'],data.loc[data['working_condition_of_mother']=='4','IQ_of_the_child'])\n"
   ]
  },
  {
   "cell_type": "markdown",
   "id": "a8fb46f6",
   "metadata": {},
   "source": [
    "**<i> As p-value << 0.5, high school completion is a <u> significant </u> feature in predicting Child\\'s IQ.  </i>**"
   ]
  },
  {
   "cell_type": "markdown",
   "id": "e664e128",
   "metadata": {},
   "source": [
    "4. <u> IQ_of_the_mother </u>"
   ]
  },
  {
   "cell_type": "markdown",
   "id": "1293e6ea",
   "metadata": {},
   "source": [
    "As IQ_of_the_mother is a continuous feature, we can perform pearson correlation to verify that IQ_of_the_mother & IQ_of_the_child (target) are correlated."
   ]
  },
  {
   "cell_type": "code",
   "execution_count": 878,
   "id": "3a9f6eea",
   "metadata": {},
   "outputs": [
    {
     "data": {
      "text/plain": [
       "<AxesSubplot:xlabel='variable', ylabel='variable'>"
      ]
     },
     "execution_count": 878,
     "metadata": {},
     "output_type": "execute_result"
    },
    {
     "data": {
      "image/png": "[encoded data removed]",
      "text/plain": [
       "<Figure size 432x288 with 2 Axes>"
      ]
     },
     "metadata": {
      "needs_background": "light"
     },
     "output_type": "display_data"
    }
   ],
   "source": [
    "corr = data.corr()\n",
    "sns.heatmap(corr, annot= True)"
   ]
  },
  {
   "cell_type": "code",
   "execution_count": 791,
   "id": "232ec80b",
   "metadata": {},
   "outputs": [
    {
     "data": {
      "text/plain": [
       "(0.44827584226517375, 7.661949625348745e-23)"
      ]
     },
     "execution_count": 791,
     "metadata": {},
     "output_type": "execute_result"
    }
   ],
   "source": [
    "stats.pearsonr(data['IQ_of_the_mother'],data['IQ_of_the_child'])"
   ]
  },
  {
   "cell_type": "markdown",
   "id": "ba937605",
   "metadata": {},
   "source": [
    "**<i> Mother's age & Mother's IQ does not have a high correlation. Child's IQ & Mother's IQ does seem to have a correlation, this corroborates our findings from the scatter plot above.</i>**"
   ]
  },
  {
   "cell_type": "markdown",
   "id": "d5f6d517",
   "metadata": {},
   "source": [
    "**Observations:**\n",
    "\n",
    "1. Through the scatterplot Age of Mother doesn't seem to have a lot of impact on child's IQ. As the line of best fit is almost flat but through the statistical test it seems that it is a litlle significant (As p = 0.03)\n",
    "2. Through the scatterplot there seems to be a positive correlation between Mother's IQ and Child's IQ and through the statistical test also, it is apparent that the Mother's IQ is very significant (As p = 7.6e-23)\n",
    "3. Mother who has completed high school seems to have child with higher IQ. This is corroborated by both the boxplot and the statistical test (As p = 6.7e-06)\n",
    "4. From the boxplot it can be noticed that mother who was working part-time in the first year seems to have child with higher IQ. Through the statistical tests, it becomes clear that this feature is significant (As p = 0.01)\n"
   ]
  },
  {
   "cell_type": "markdown",
   "id": "e008885c",
   "metadata": {},
   "source": [
    "## <font color='blue'><u> Outlier Detection </u></font>"
   ]
  },
  {
   "cell_type": "markdown",
   "id": "c9d9ecd7",
   "metadata": {},
   "source": [
    "To detect Outliers, univariate Outlier detection technique using IQR (Interquartile range) can be used. IQR measures the spread of the middle half of your data. It is the range for the middle 50% of your sample i.e. the difference between the 75th and 25th percentiles of the data. Now anything above 75th percentile + 1.5\\*IQR & anything below 25th percentile - 1.5\\*IQR is considered an outlier."
   ]
  },
  {
   "cell_type": "code",
   "execution_count": 852,
   "id": "b16c90a7",
   "metadata": {},
   "outputs": [],
   "source": [
    "def Outlier_removal(data, column, condition, target):\n",
    "    random_data = np.random.standard_normal(100000)\n",
    "    if (column != '')&(condition != ''):\n",
    "        q3, q1 = np.percentile(data.loc[data[column]==condition,target], [75, 25])\n",
    "    else:\n",
    "        q3, q1 = np.percentile(data.loc[:,target], [75, 25])\n",
    "    print(\"Datapoints before outlier removal: \" + str(len(data)))\n",
    "    IQR = q3 - q1\n",
    "    \n",
    "    upper_bound = q3 + 1.5 * IQR\n",
    "    lower_bound = q1 - 1.5 * IQR\n",
    "    print(\"Upper bound: \" + str(upper_bound))\n",
    "    print(\"Lower bound: \" + str(lower_bound))\n",
    "    \n",
    "    if (column != '')&(condition != ''):\n",
    "        data1 = data.loc[(data[column]==condition)&((data[target] > upper_bound)|(data[target] < lower_bound))].index\n",
    "    else:\n",
    "        data1 = data.loc[((data[target] > upper_bound)|(data[target] < lower_bound))].index\n",
    "    data = data.drop(data1)\n",
    "    print(\"Datapoints after outlier removal: \" + str(len(data)))\n",
    "    return data"
   ]
  },
  {
   "cell_type": "code",
   "execution_count": 859,
   "id": "a602ebef",
   "metadata": {},
   "outputs": [
    {
     "name": "stdout",
     "output_type": "stream",
     "text": [
      "Datapoints before outlier removal: 434\n",
      "Upper bound: 142.0\n",
      "Lower bound: 38.0\n",
      "Datapoints after outlier removal: 433\n"
     ]
    }
   ],
   "source": [
    "data = Outlier_removal(data,'mother_high_school_flag' , '1', 'IQ_of_the_child')"
   ]
  },
  {
   "cell_type": "code",
   "execution_count": 860,
   "id": "6bc5e03c",
   "metadata": {},
   "outputs": [
    {
     "name": "stdout",
     "output_type": "stream",
     "text": [
      "Datapoints before outlier removal: 433\n",
      "Upper bound: 140.5\n",
      "Lower bound: 32.5\n",
      "Datapoints after outlier removal: 432\n"
     ]
    }
   ],
   "source": [
    "data = Outlier_removal(data,'working_condition_of_mother' , '2', 'IQ_of_the_child')"
   ]
  },
  {
   "cell_type": "code",
   "execution_count": 861,
   "id": "e2897b44",
   "metadata": {},
   "outputs": [
    {
     "name": "stdout",
     "output_type": "stream",
     "text": [
      "Datapoints before outlier removal: 432\n",
      "Upper bound: 134.0\n",
      "Lower bound: 54.0\n",
      "Datapoints after outlier removal: 432\n"
     ]
    }
   ],
   "source": [
    "data = Outlier_removal(data,'working_condition_of_mother' , '3', 'IQ_of_the_child')"
   ]
  },
  {
   "cell_type": "code",
   "execution_count": 862,
   "id": "bde75b20",
   "metadata": {},
   "outputs": [
    {
     "name": "stdout",
     "output_type": "stream",
     "text": [
      "Datapoints before outlier removal: 432\n",
      "Upper bound: 136.625\n",
      "Lower bound: 49.625\n",
      "Datapoints after outlier removal: 429\n"
     ]
    }
   ],
   "source": [
    "data = Outlier_removal(data,'mother_age_binned' , '25+', 'IQ_of_the_child')"
   ]
  },
  {
   "cell_type": "code",
   "execution_count": 863,
   "id": "1adc9eda",
   "metadata": {},
   "outputs": [
    {
     "name": "stdout",
     "output_type": "stream",
     "text": [
      "Datapoints before outlier removal: 429\n",
      "Upper bound: 141.0\n",
      "Lower bound: 37.0\n",
      "Datapoints after outlier removal: 429\n"
     ]
    }
   ],
   "source": [
    "data = Outlier_removal(data,'mother_age_binned' , '23-25', 'IQ_of_the_child')"
   ]
  },
  {
   "cell_type": "code",
   "execution_count": 864,
   "id": "aff954c9",
   "metadata": {},
   "outputs": [
    {
     "name": "stdout",
     "output_type": "stream",
     "text": [
      "Datapoints before outlier removal: 429\n",
      "Upper bound: 142.20554361761506\n",
      "Lower bound: 56.58224367930823\n",
      "Datapoints after outlier removal: 429\n"
     ]
    }
   ],
   "source": [
    "data = Outlier_removal(data,'' , '', 'IQ_of_the_mother')"
   ]
  },
  {
   "cell_type": "markdown",
   "id": "5f382cbb",
   "metadata": {},
   "source": [
    "**<i>After removing all the outliers, the number of datapoints have become 429. As the original dataset had 434 data points this means that only 5 datapoints have been removed.<i>**"
   ]
  },
  {
   "cell_type": "markdown",
   "id": "7f94bb8a",
   "metadata": {},
   "source": [
    "## <font color='blue'><u> Analysing correlation between independent features </u></font>"
   ]
  },
  {
   "cell_type": "code",
   "execution_count": 615,
   "id": "1a2d5beb",
   "metadata": {},
   "outputs": [
    {
     "data": {
      "text/plain": [
       "Index(['mother_age', 'mother_high_school_flag', 'IQ_of_the_mother',\n",
       "       'IQ_of_the_child', 'working_condition_of_mother'],\n",
       "      dtype='object', name='variable')"
      ]
     },
     "execution_count": 615,
     "metadata": {},
     "output_type": "execute_result"
    }
   ],
   "source": [
    "data.columns"
   ]
  },
  {
   "cell_type": "markdown",
   "id": "802c0cf7",
   "metadata": {},
   "source": [
    "There are 4 independent variables: mother_high_school_flag (categorical), IQ_of_the_mother (numerical), working_condition_of_mother (categorical), mother_age_binned (categorical). \n",
    "\n",
    "For getting correlation between:\n",
    "1. categorical - categorical: Chisquare test can be used. This gives us a p-value & a value less than 0.05 means that the two variables are correlated to each other. To know the strength of the relationship,an essect size measure like Cramer's V need to be used. \n",
    "\n",
    "<table align=\"left\">\n",
    "<tr><td>Cramer's V</td><td>Interpretation</td></tr>\n",
    "<tr><td> >0.25</td><td>Very Strong</td></tr>\n",
    "<tr><td> >0.15</td><td>Strong</td></tr>\n",
    "<tr><td> >0.10</td><td>Moderate</td></tr>\n",
    "<tr><td> >0.05</td><td>Weak</td></tr>\n",
    "<tr><td> >0</td><td>Very Weak</td></tr>\n",
    "</table>\n",
    "<br>\n",
    "<br>\n",
    "<br>\n",
    "<br>\n",
    "<br>\n",
    "<br>\n",
    "<br>\n",
    "<br>\n",
    "<br>\n",
    "\n",
    "2. categorical - numerical: ANOVA can be used provided each subgroup follows normal distribution. In case that assumption is violated, non-parametric test like Kruskal Wallis can be used."
   ]
  },
  {
   "cell_type": "markdown",
   "id": "b3b5eb30",
   "metadata": {},
   "source": [
    "1. <u> mother_age_binned & mother_high_school_flag: Chisquare Test </u>"
   ]
  },
  {
   "cell_type": "code",
   "execution_count": 869,
   "id": "8232e2ee",
   "metadata": {},
   "outputs": [
    {
     "data": {
      "text/plain": [
       "(22.91485528187637,\n",
       " 4.206731027722609e-05,\n",
       " 3,\n",
       " array([[ 11.74825175,  44.25174825],\n",
       "        [ 31.25874126, 117.74125874],\n",
       "        [ 31.25874126, 117.74125874],\n",
       "        [ 15.73426573,  59.26573427]]))"
      ]
     },
     "execution_count": 869,
     "metadata": {},
     "output_type": "execute_result"
    }
   ],
   "source": [
    "crosstab = pd.crosstab(data[\"mother_age_binned\"], data[\"mother_high_school_flag\"])\n",
    "stats.chi2_contingency(crosstab)"
   ]
  },
  {
   "cell_type": "code",
   "execution_count": 870,
   "id": "58d049ff",
   "metadata": {},
   "outputs": [
    {
     "data": {
      "text/html": [
       "<div>\n",
       "<style scoped>\n",
       "    .dataframe tbody tr th:only-of-type {\n",
       "        vertical-align: middle;\n",
       "    }\n",
       "\n",
       "    .dataframe tbody tr th {\n",
       "        vertical-align: top;\n",
       "    }\n",
       "\n",
       "    .dataframe thead th {\n",
       "        text-align: right;\n",
       "    }\n",
       "</style>\n",
       "<table border=\"1\" class=\"dataframe\">\n",
       "  <thead>\n",
       "    <tr style=\"text-align: right;\">\n",
       "      <th></th>\n",
       "      <th>Chi-square test</th>\n",
       "      <th>results</th>\n",
       "    </tr>\n",
       "  </thead>\n",
       "  <tbody>\n",
       "    <tr>\n",
       "      <th>0</th>\n",
       "      <td>Pearson Chi-square ( 3.0) =</td>\n",
       "      <td>22.9149</td>\n",
       "    </tr>\n",
       "    <tr>\n",
       "      <th>1</th>\n",
       "      <td>p-value =</td>\n",
       "      <td>0.0000</td>\n",
       "    </tr>\n",
       "    <tr>\n",
       "      <th>2</th>\n",
       "      <td>Cramer's V =</td>\n",
       "      <td>0.2311</td>\n",
       "    </tr>\n",
       "  </tbody>\n",
       "</table>\n",
       "</div>"
      ],
      "text/plain": [
       "                Chi-square test  results\n",
       "0  Pearson Chi-square ( 3.0) =   22.9149\n",
       "1                    p-value =    0.0000\n",
       "2                 Cramer's V =    0.2311"
      ]
     },
     "execution_count": 870,
     "metadata": {},
     "output_type": "execute_result"
    }
   ],
   "source": [
    "import researchpy as rp\n",
    "crosstab, test_results, expected = rp.crosstab(data[\"mother_high_school_flag\"], data[\"mother_age_binned\"],\n",
    "                                               test= \"chi-square\",\n",
    "                                               expected_freqs= True,\n",
    "                                               prop= \"cell\")\n",
    "test_results"
   ]
  },
  {
   "cell_type": "markdown",
   "id": "8a87f363",
   "metadata": {},
   "source": [
    "**<i> Mother's age at child birth \\& Mother\\'s completion of high school are dependent \\& there is a strong relationship between the two categorical variables. The p-value is < 0.05 & Cramer\\'s V value is .23. </i>**"
   ]
  },
  {
   "cell_type": "markdown",
   "id": "7a1bafa9",
   "metadata": {},
   "source": [
    "2. <u> mother_age_binned & working_condition_of_mother: Chisquare Test </u>"
   ]
  },
  {
   "cell_type": "code",
   "execution_count": 871,
   "id": "0932112c",
   "metadata": {},
   "outputs": [
    {
     "data": {
      "text/plain": [
       "(16.288167567614764,\n",
       " 0.061102359463556216,\n",
       " 9,\n",
       " array([[ 9.92074592, 12.27039627,  7.17948718, 26.62937063],\n",
       "        [26.3962704 , 32.64801865, 19.1025641 , 70.85314685],\n",
       "        [26.3962704 , 32.64801865, 19.1025641 , 70.85314685],\n",
       "        [13.28671329, 16.43356643,  9.61538462, 35.66433566]]))"
      ]
     },
     "execution_count": 871,
     "metadata": {},
     "output_type": "execute_result"
    }
   ],
   "source": [
    "crosstab = pd.crosstab(data[\"mother_age_binned\"], data[\"working_condition_of_mother\"])\n",
    "stats.chi2_contingency(crosstab)"
   ]
  },
  {
   "cell_type": "markdown",
   "id": "e67f6742",
   "metadata": {},
   "source": [
    "**<i> Mother's age at child birth \\& Mother\\'s workingcondition after child birth are independent \\& there is statistically no relationship between the two categorical variables. The p-value is > 0.05. </i>**"
   ]
  },
  {
   "cell_type": "markdown",
   "id": "b2e46446",
   "metadata": {},
   "source": [
    "3. <u> mother_high_school_flag & working_condition_of_mother: Chisquare Test </u>"
   ]
  },
  {
   "cell_type": "code",
   "execution_count": 872,
   "id": "0303b45a",
   "metadata": {},
   "outputs": [
    {
     "data": {
      "text/plain": [
       "(30.192296966003862,\n",
       " 1.2573135816926335e-06,\n",
       " 3,\n",
       " array([[ 15.94405594,  60.05594406],\n",
       "        [ 19.72027972,  74.27972028],\n",
       "        [ 11.53846154,  43.46153846],\n",
       "        [ 42.7972028 , 161.2027972 ]]))"
      ]
     },
     "execution_count": 872,
     "metadata": {},
     "output_type": "execute_result"
    }
   ],
   "source": [
    "crosstab = pd.crosstab(data[\"working_condition_of_mother\"], data[\"mother_high_school_flag\"])\n",
    "stats.chi2_contingency(crosstab)"
   ]
  },
  {
   "cell_type": "code",
   "execution_count": 873,
   "id": "0b09d51a",
   "metadata": {},
   "outputs": [
    {
     "data": {
      "text/html": [
       "<div>\n",
       "<style scoped>\n",
       "    .dataframe tbody tr th:only-of-type {\n",
       "        vertical-align: middle;\n",
       "    }\n",
       "\n",
       "    .dataframe tbody tr th {\n",
       "        vertical-align: top;\n",
       "    }\n",
       "\n",
       "    .dataframe thead th {\n",
       "        text-align: right;\n",
       "    }\n",
       "</style>\n",
       "<table border=\"1\" class=\"dataframe\">\n",
       "  <thead>\n",
       "    <tr style=\"text-align: right;\">\n",
       "      <th></th>\n",
       "      <th>Chi-square test</th>\n",
       "      <th>results</th>\n",
       "    </tr>\n",
       "  </thead>\n",
       "  <tbody>\n",
       "    <tr>\n",
       "      <th>0</th>\n",
       "      <td>Pearson Chi-square ( 3.0) =</td>\n",
       "      <td>30.1923</td>\n",
       "    </tr>\n",
       "    <tr>\n",
       "      <th>1</th>\n",
       "      <td>p-value =</td>\n",
       "      <td>0.0000</td>\n",
       "    </tr>\n",
       "    <tr>\n",
       "      <th>2</th>\n",
       "      <td>Cramer's V =</td>\n",
       "      <td>0.2653</td>\n",
       "    </tr>\n",
       "  </tbody>\n",
       "</table>\n",
       "</div>"
      ],
      "text/plain": [
       "                Chi-square test  results\n",
       "0  Pearson Chi-square ( 3.0) =   30.1923\n",
       "1                    p-value =    0.0000\n",
       "2                 Cramer's V =    0.2653"
      ]
     },
     "execution_count": 873,
     "metadata": {},
     "output_type": "execute_result"
    }
   ],
   "source": [
    "import researchpy as rp\n",
    "crosstab, test_results, expected = rp.crosstab(data[\"mother_high_school_flag\"], data[\"working_condition_of_mother\"],\n",
    "                                               test= \"chi-square\",\n",
    "                                               expected_freqs= True,\n",
    "                                               prop= \"cell\")\n",
    "test_results"
   ]
  },
  {
   "cell_type": "markdown",
   "id": "6761037c",
   "metadata": {},
   "source": [
    "**<i> Mother's completion of high school & Mother's working condition after child birth does have a dependency on each other i.e. there is a relationship between the two categorical variables. The p-value is < 0.05 & Cramer's V value is .26.</i>**"
   ]
  },
  {
   "cell_type": "markdown",
   "id": "65d89d88",
   "metadata": {},
   "source": [
    "4. <u> mother_age_binned & IQ_of_the_mother: ANOVA / Kruskal Wallis </u>"
   ]
  },
  {
   "cell_type": "markdown",
   "id": "8277f5f3",
   "metadata": {},
   "source": [
    "Testing for Normality as this is an assumption taken by the ANOVA test"
   ]
  },
  {
   "cell_type": "code",
   "execution_count": 795,
   "id": "fe74a8c5",
   "metadata": {},
   "outputs": [
    {
     "data": {
      "text/plain": [
       "ShapiroResult(statistic=0.9328998327255249, pvalue=0.003909562714397907)"
      ]
     },
     "execution_count": 795,
     "metadata": {},
     "output_type": "execute_result"
    }
   ],
   "source": [
    "shapiro(data.loc[data['mother_age_binned']=='17-19','IQ_of_the_mother'])"
   ]
  },
  {
   "cell_type": "code",
   "execution_count": 796,
   "id": "0b6b49e6",
   "metadata": {},
   "outputs": [
    {
     "data": {
      "text/plain": [
       "ShapiroResult(statistic=0.94659024477005, pvalue=1.8358970919507556e-05)"
      ]
     },
     "execution_count": 796,
     "metadata": {},
     "output_type": "execute_result"
    }
   ],
   "source": [
    "shapiro(data.loc[data['mother_age_binned']=='20-22','IQ_of_the_mother'])"
   ]
  },
  {
   "cell_type": "code",
   "execution_count": 797,
   "id": "72d3b0d6",
   "metadata": {},
   "outputs": [
    {
     "data": {
      "text/plain": [
       "ShapiroResult(statistic=0.9609742760658264, pvalue=0.00028613884933292866)"
      ]
     },
     "execution_count": 797,
     "metadata": {},
     "output_type": "execute_result"
    }
   ],
   "source": [
    "shapiro(data.loc[data['mother_age_binned']=='23-25','IQ_of_the_mother'])"
   ]
  },
  {
   "cell_type": "code",
   "execution_count": 798,
   "id": "88d4a63d",
   "metadata": {},
   "outputs": [
    {
     "data": {
      "text/plain": [
       "ShapiroResult(statistic=0.9567221999168396, pvalue=0.009725559502840042)"
      ]
     },
     "execution_count": 798,
     "metadata": {},
     "output_type": "execute_result"
    }
   ],
   "source": [
    "shapiro(data.loc[data['mother_age_binned']=='25+','IQ_of_the_mother'])"
   ]
  },
  {
   "cell_type": "markdown",
   "id": "8da768b8",
   "metadata": {},
   "source": [
    "As the p-value for all the subgroup is < 0.05 that means they are not normally distributed. As they are not normally distributed, non-parametric statistical test (Kruskal Wallis) has to be used."
   ]
  },
  {
   "cell_type": "code",
   "execution_count": 799,
   "id": "4605c770",
   "metadata": {},
   "outputs": [
    {
     "data": {
      "text/plain": [
       "KruskalResult(statistic=6.414333529664097, pvalue=0.09310289744607662)"
      ]
     },
     "execution_count": 799,
     "metadata": {},
     "output_type": "execute_result"
    }
   ],
   "source": [
    "kruskal(data.loc[data['mother_age_binned']=='17-19','IQ_of_the_mother'], data.loc[data['mother_age_binned']=='20-22','IQ_of_the_mother'], data.loc[data['mother_age_binned']=='23-25','IQ_of_the_mother'],data.loc[data['mother_age_binned']=='25+','IQ_of_the_mother'])\n"
   ]
  },
  {
   "cell_type": "markdown",
   "id": "fa128690",
   "metadata": {},
   "source": [
    "**<i> As the p-value > 0.05 that means we fail to reject the null hypothesis and mother_age_binned & IQ_of_the_mother are not dependent & there is no relationship between the variables. </i>**"
   ]
  },
  {
   "cell_type": "markdown",
   "id": "d7fa64f7",
   "metadata": {},
   "source": [
    "5. <u> working_condition_of_mother & IQ_of_the_mother: ANOVA / Kruskal Wallis </u>"
   ]
  },
  {
   "cell_type": "markdown",
   "id": "62490082",
   "metadata": {},
   "source": [
    "Testing for Normality as this is an assumption taken by the ANOVA test"
   ]
  },
  {
   "cell_type": "code",
   "execution_count": 800,
   "id": "4a4f8683",
   "metadata": {},
   "outputs": [
    {
     "data": {
      "text/plain": [
       "ShapiroResult(statistic=0.9358122944831848, pvalue=0.000752303923945874)"
      ]
     },
     "execution_count": 800,
     "metadata": {},
     "output_type": "execute_result"
    }
   ],
   "source": [
    "shapiro(data.loc[data['working_condition_of_mother']=='1','IQ_of_the_mother'])"
   ]
  },
  {
   "cell_type": "code",
   "execution_count": 801,
   "id": "dc37c9fe",
   "metadata": {},
   "outputs": [
    {
     "data": {
      "text/plain": [
       "ShapiroResult(statistic=0.9805067777633667, pvalue=0.1640300452709198)"
      ]
     },
     "execution_count": 801,
     "metadata": {},
     "output_type": "execute_result"
    }
   ],
   "source": [
    "shapiro(data.loc[data['working_condition_of_mother']=='2','IQ_of_the_mother'])"
   ]
  },
  {
   "cell_type": "code",
   "execution_count": 802,
   "id": "5dc654da",
   "metadata": {},
   "outputs": [
    {
     "data": {
      "text/plain": [
       "ShapiroResult(statistic=0.9778384566307068, pvalue=0.38918420672416687)"
      ]
     },
     "execution_count": 802,
     "metadata": {},
     "output_type": "execute_result"
    }
   ],
   "source": [
    "shapiro(data.loc[data['working_condition_of_mother']=='3','IQ_of_the_mother'])"
   ]
  },
  {
   "cell_type": "code",
   "execution_count": 803,
   "id": "3d2b3092",
   "metadata": {},
   "outputs": [
    {
     "data": {
      "text/plain": [
       "ShapiroResult(statistic=0.9600163102149963, pvalue=1.5650417481083423e-05)"
      ]
     },
     "execution_count": 803,
     "metadata": {},
     "output_type": "execute_result"
    }
   ],
   "source": [
    "shapiro(data.loc[data['working_condition_of_mother']=='4','IQ_of_the_mother'])"
   ]
  },
  {
   "cell_type": "markdown",
   "id": "b19a060d",
   "metadata": {},
   "source": [
    "As the p-value for all the subgroup is < 0.05 that means they are not normally distributed. As they are not normally distributed, non-parametric statistical test (Kruskal Wallis) has to be used."
   ]
  },
  {
   "cell_type": "code",
   "execution_count": 804,
   "id": "5c54ea44",
   "metadata": {},
   "outputs": [
    {
     "data": {
      "text/plain": [
       "KruskalResult(statistic=13.96541424984323, pvalue=0.002952609878294879)"
      ]
     },
     "execution_count": 804,
     "metadata": {},
     "output_type": "execute_result"
    }
   ],
   "source": [
    "kruskal(data.loc[data['working_condition_of_mother']=='1','IQ_of_the_mother'],data.loc[data['working_condition_of_mother']=='2','IQ_of_the_mother'],data.loc[data['working_condition_of_mother']=='3','IQ_of_the_mother'],data.loc[data['working_condition_of_mother']=='4','IQ_of_the_mother'])\n"
   ]
  },
  {
   "cell_type": "markdown",
   "id": "abab5eb8",
   "metadata": {},
   "source": [
    "**<i> As the p-value < 0.05 that means we reject the null hypothesis and working_condition_of_mother & IQ_of_the_mother are dependent & there is a relationship between the variables. </i>**"
   ]
  },
  {
   "cell_type": "markdown",
   "id": "2dadb9f1",
   "metadata": {},
   "source": [
    "6. <u> mother_high_school_flag & IQ_of_the_mother: 2 sample t-test / Mann Whitney U test </u>"
   ]
  },
  {
   "cell_type": "markdown",
   "id": "0ab12dd2",
   "metadata": {},
   "source": [
    "Testing for Normality as this is an assumption taken by the 2 sample t-test test"
   ]
  },
  {
   "cell_type": "code",
   "execution_count": 805,
   "id": "b017a74d",
   "metadata": {},
   "outputs": [
    {
     "data": {
      "text/plain": [
       "ShapiroResult(statistic=0.972172737121582, pvalue=3.871217359119328e-06)"
      ]
     },
     "execution_count": 805,
     "metadata": {},
     "output_type": "execute_result"
    }
   ],
   "source": [
    "shapiro(data.loc[data['mother_high_school_flag']=='1','IQ_of_the_mother'])"
   ]
  },
  {
   "cell_type": "code",
   "execution_count": 806,
   "id": "ed6fc553",
   "metadata": {},
   "outputs": [
    {
     "data": {
      "text/plain": [
       "ShapiroResult(statistic=0.928447961807251, pvalue=7.495938189094886e-05)"
      ]
     },
     "execution_count": 806,
     "metadata": {},
     "output_type": "execute_result"
    }
   ],
   "source": [
    "shapiro(data.loc[data['mother_high_school_flag']=='0','IQ_of_the_mother'])"
   ]
  },
  {
   "cell_type": "markdown",
   "id": "dd374eb2",
   "metadata": {},
   "source": [
    "As the p-value for all the subgroup is < 0.05 that means they are not normally distributed. As they are not normally distributed, non-parametric statistical test (Mann Whitney U) has to be used."
   ]
  },
  {
   "cell_type": "code",
   "execution_count": 807,
   "id": "6e490b6c",
   "metadata": {},
   "outputs": [
    {
     "data": {
      "text/plain": [
       "MannwhitneyuResult(statistic=22462.5, pvalue=7.23912927065149e-10)"
      ]
     },
     "execution_count": 807,
     "metadata": {},
     "output_type": "execute_result"
    }
   ],
   "source": [
    "mannwhitneyu(data.loc[data['mother_high_school_flag']=='1','IQ_of_the_mother'],data.loc[data['mother_high_school_flag']=='0','IQ_of_the_mother'])\n"
   ]
  },
  {
   "cell_type": "markdown",
   "id": "e88f9fe4",
   "metadata": {},
   "source": [
    "**<i>As the p-value < 0.05 that means we reject the null hypothesis and mother_high_school_flag & IQ_of_the_mother are dependent & there is a relationship between the variables.</i>**"
   ]
  },
  {
   "cell_type": "markdown",
   "id": "686541eb",
   "metadata": {},
   "source": [
    "**Observations:**\n",
    "1. There is a relationship/dependency between all the independent variables except between mother_age_binned & working_condition_of_mother, mother_age_binned & IQ_of_the_mother\n",
    "2. As there are lot of dependencies, it doesn't make sense to drop the feature when building a mutiple linear regression as we won't have any features left if we only consider this. So, to build mutiple linear regression it makes more sense to look at Adj. R-squared for differnt models and choose the one, which gives the highest Adj. R-squared."
   ]
  },
  {
   "cell_type": "markdown",
   "id": "ee8ebf26",
   "metadata": {},
   "source": [
    "## <font color='blue'><u> Assumptions of Linear Regression </u></font>"
   ]
  },
  {
   "cell_type": "markdown",
   "id": "d6ef674c",
   "metadata": {},
   "source": [
    "1. There must be a linear relationship between the dependent and independent variables - From the plots we can notice that it is true.\n",
    "2. Sample observations are independent - Yes as each datapoint has different value for an observation so thsey are independent of each other.\n",
    "3. No outliers are present in the data - Outliers have alkready been treated.\n",
    "4. No multicollinearity - When the independent variables in my model are highly linearly related then such a situation is called multicollinearity. As observed above we see collinearity between every independent variable (except between mother_age_binned & working_condition_of_mother, mother_age_binned & IQ_of_the_mother). As there are lot of dependencies, it doesn't make sense to drop the feature when building a mutiple linear regression as we won't have any features left if we only consider this. So, to build mutiple linear regression it makes more sense to look at Adj. R-squared for differnt models and choose the one, which gives the highest Adj. R-squared.\n",
    "5. Error terms are identically and independently distributed. (Independence means absence of autocorrelation) - Will be checked after the model has been built.\n",
    "6. Error terms have constant variance i.e. there is no heteroscedasticity - Will be checked after the model has been built.\n",
    "7. Error terms are normally distributed with mean 0 - Will be checked after the model has been built.\n"
   ]
  },
  {
   "cell_type": "markdown",
   "id": "53939d71",
   "metadata": {},
   "source": [
    "## <font color='blue'><u> Linear Regression </u></font>"
   ]
  },
  {
   "cell_type": "markdown",
   "id": "8ade9900",
   "metadata": {},
   "source": [
    "**Preparing data for Modelling**"
   ]
  },
  {
   "cell_type": "markdown",
   "id": "5e802fc1",
   "metadata": {},
   "source": [
    "<u> Encoding Categorical features </u>"
   ]
  },
  {
   "cell_type": "code",
   "execution_count": 995,
   "id": "30229a02",
   "metadata": {},
   "outputs": [
    {
     "data": {
      "text/plain": [
       "Index(['mother_age', 'mother_high_school_flag', 'IQ_of_the_mother',\n",
       "       'IQ_of_the_child', 'working_condition_of_mother', 'mother_age_binned'],\n",
       "      dtype='object', name='variable')"
      ]
     },
     "execution_count": 995,
     "metadata": {},
     "output_type": "execute_result"
    }
   ],
   "source": [
    "data.columns"
   ]
  },
  {
   "cell_type": "code",
   "execution_count": 996,
   "id": "9206be36",
   "metadata": {},
   "outputs": [],
   "source": [
    "data1 = data.drop(['mother_age'], axis = 1)"
   ]
  },
  {
   "cell_type": "code",
   "execution_count": 997,
   "id": "07e6a08e",
   "metadata": {},
   "outputs": [
    {
     "data": {
      "text/plain": [
       "Index(['mother_high_school_flag', 'IQ_of_the_mother', 'IQ_of_the_child',\n",
       "       'working_condition_of_mother', 'mother_age_binned'],\n",
       "      dtype='object', name='variable')"
      ]
     },
     "execution_count": 997,
     "metadata": {},
     "output_type": "execute_result"
    }
   ],
   "source": [
    "data1.columns"
   ]
  },
  {
   "cell_type": "markdown",
   "id": "29b3a695",
   "metadata": {},
   "source": [
    "<b><div class=\"alert alert-block alert-success\">NOTE: One Hot encoding was also tried but the results were similar to Target Mean Encoding. The latter was chosen, as it results in lesser number of features. </div></b>"
   ]
  },
  {
   "cell_type": "code",
   "execution_count": 998,
   "id": "cfc01b0c",
   "metadata": {},
   "outputs": [
    {
     "data": {
      "text/html": [
       "<div>\n",
       "<style scoped>\n",
       "    .dataframe tbody tr th:only-of-type {\n",
       "        vertical-align: middle;\n",
       "    }\n",
       "\n",
       "    .dataframe tbody tr th {\n",
       "        vertical-align: top;\n",
       "    }\n",
       "\n",
       "    .dataframe thead th {\n",
       "        text-align: right;\n",
       "    }\n",
       "</style>\n",
       "<table border=\"1\" class=\"dataframe\">\n",
       "  <thead>\n",
       "    <tr style=\"text-align: right;\">\n",
       "      <th></th>\n",
       "      <th>mother_age_binned</th>\n",
       "      <th>mother_high_school_flag</th>\n",
       "      <th>IQ_of_the_mother</th>\n",
       "      <th>IQ_of_the_child</th>\n",
       "      <th>working_condition_of_mother</th>\n",
       "    </tr>\n",
       "  </thead>\n",
       "  <tbody>\n",
       "    <tr>\n",
       "      <th>0</th>\n",
       "      <td>91.880000</td>\n",
       "      <td>1</td>\n",
       "      <td>121.117529</td>\n",
       "      <td>65</td>\n",
       "      <td>4</td>\n",
       "    </tr>\n",
       "    <tr>\n",
       "      <th>1</th>\n",
       "      <td>88.268456</td>\n",
       "      <td>1</td>\n",
       "      <td>89.361882</td>\n",
       "      <td>98</td>\n",
       "      <td>4</td>\n",
       "    </tr>\n",
       "    <tr>\n",
       "      <th>2</th>\n",
       "      <td>91.880000</td>\n",
       "      <td>1</td>\n",
       "      <td>115.443165</td>\n",
       "      <td>85</td>\n",
       "      <td>4</td>\n",
       "    </tr>\n",
       "    <tr>\n",
       "      <th>3</th>\n",
       "      <td>88.268456</td>\n",
       "      <td>1</td>\n",
       "      <td>99.449639</td>\n",
       "      <td>83</td>\n",
       "      <td>3</td>\n",
       "    </tr>\n",
       "    <tr>\n",
       "      <th>4</th>\n",
       "      <td>91.880000</td>\n",
       "      <td>1</td>\n",
       "      <td>92.745710</td>\n",
       "      <td>115</td>\n",
       "      <td>4</td>\n",
       "    </tr>\n",
       "    <tr>\n",
       "      <th>...</th>\n",
       "      <td>...</td>\n",
       "      <td>...</td>\n",
       "      <td>...</td>\n",
       "      <td>...</td>\n",
       "      <td>...</td>\n",
       "    </tr>\n",
       "    <tr>\n",
       "      <th>429</th>\n",
       "      <td>83.590604</td>\n",
       "      <td>0</td>\n",
       "      <td>84.877412</td>\n",
       "      <td>94</td>\n",
       "      <td>4</td>\n",
       "    </tr>\n",
       "    <tr>\n",
       "      <th>430</th>\n",
       "      <td>88.268456</td>\n",
       "      <td>1</td>\n",
       "      <td>92.990392</td>\n",
       "      <td>76</td>\n",
       "      <td>4</td>\n",
       "    </tr>\n",
       "    <tr>\n",
       "      <th>431</th>\n",
       "      <td>88.268456</td>\n",
       "      <td>0</td>\n",
       "      <td>94.859708</td>\n",
       "      <td>50</td>\n",
       "      <td>2</td>\n",
       "    </tr>\n",
       "    <tr>\n",
       "      <th>432</th>\n",
       "      <td>83.590604</td>\n",
       "      <td>1</td>\n",
       "      <td>96.856624</td>\n",
       "      <td>88</td>\n",
       "      <td>2</td>\n",
       "    </tr>\n",
       "    <tr>\n",
       "      <th>433</th>\n",
       "      <td>88.268456</td>\n",
       "      <td>1</td>\n",
       "      <td>91.253336</td>\n",
       "      <td>70</td>\n",
       "      <td>2</td>\n",
       "    </tr>\n",
       "  </tbody>\n",
       "</table>\n",
       "<p>429 rows × 5 columns</p>\n",
       "</div>"
      ],
      "text/plain": [
       "     mother_age_binned mother_high_school_flag  IQ_of_the_mother  \\\n",
       "0            91.880000                       1        121.117529   \n",
       "1            88.268456                       1         89.361882   \n",
       "2            91.880000                       1        115.443165   \n",
       "3            88.268456                       1         99.449639   \n",
       "4            91.880000                       1         92.745710   \n",
       "..                 ...                     ...               ...   \n",
       "429          83.590604                       0         84.877412   \n",
       "430          88.268456                       1         92.990392   \n",
       "431          88.268456                       0         94.859708   \n",
       "432          83.590604                       1         96.856624   \n",
       "433          88.268456                       1         91.253336   \n",
       "\n",
       "     IQ_of_the_child working_condition_of_mother  \n",
       "0                 65                           4  \n",
       "1                 98                           4  \n",
       "2                 85                           4  \n",
       "3                 83                           3  \n",
       "4                115                           4  \n",
       "..               ...                         ...  \n",
       "429               94                           4  \n",
       "430               76                           4  \n",
       "431               50                           2  \n",
       "432               88                           2  \n",
       "433               70                           2  \n",
       "\n",
       "[429 rows x 5 columns]"
      ]
     },
     "execution_count": 998,
     "metadata": {},
     "output_type": "execute_result"
    }
   ],
   "source": [
    "tenc=ce.TargetEncoder() \n",
    "data_encode1=tenc.fit_transform(data1['mother_age_binned'],data1['IQ_of_the_child'])\n",
    "data_encode1 = data_encode1.join(data1.drop('mother_age_binned',axis = 1))\n",
    "data_encode1"
   ]
  },
  {
   "cell_type": "code",
   "execution_count": 999,
   "id": "19c8d762",
   "metadata": {},
   "outputs": [
    {
     "data": {
      "text/html": [
       "<div>\n",
       "<style scoped>\n",
       "    .dataframe tbody tr th:only-of-type {\n",
       "        vertical-align: middle;\n",
       "    }\n",
       "\n",
       "    .dataframe tbody tr th {\n",
       "        vertical-align: top;\n",
       "    }\n",
       "\n",
       "    .dataframe thead th {\n",
       "        text-align: right;\n",
       "    }\n",
       "</style>\n",
       "<table border=\"1\" class=\"dataframe\">\n",
       "  <thead>\n",
       "    <tr style=\"text-align: right;\">\n",
       "      <th></th>\n",
       "      <th>mother_high_school_flag</th>\n",
       "      <th>mother_age_binned</th>\n",
       "      <th>IQ_of_the_mother</th>\n",
       "      <th>IQ_of_the_child</th>\n",
       "      <th>working_condition_of_mother</th>\n",
       "    </tr>\n",
       "  </thead>\n",
       "  <tbody>\n",
       "    <tr>\n",
       "      <th>0</th>\n",
       "      <td>89.297935</td>\n",
       "      <td>91.880000</td>\n",
       "      <td>121.117529</td>\n",
       "      <td>65</td>\n",
       "      <td>4</td>\n",
       "    </tr>\n",
       "    <tr>\n",
       "      <th>1</th>\n",
       "      <td>89.297935</td>\n",
       "      <td>88.268456</td>\n",
       "      <td>89.361882</td>\n",
       "      <td>98</td>\n",
       "      <td>4</td>\n",
       "    </tr>\n",
       "    <tr>\n",
       "      <th>2</th>\n",
       "      <td>89.297935</td>\n",
       "      <td>91.880000</td>\n",
       "      <td>115.443165</td>\n",
       "      <td>85</td>\n",
       "      <td>4</td>\n",
       "    </tr>\n",
       "    <tr>\n",
       "      <th>3</th>\n",
       "      <td>89.297935</td>\n",
       "      <td>88.268456</td>\n",
       "      <td>99.449639</td>\n",
       "      <td>83</td>\n",
       "      <td>3</td>\n",
       "    </tr>\n",
       "    <tr>\n",
       "      <th>4</th>\n",
       "      <td>89.297935</td>\n",
       "      <td>91.880000</td>\n",
       "      <td>92.745710</td>\n",
       "      <td>115</td>\n",
       "      <td>4</td>\n",
       "    </tr>\n",
       "    <tr>\n",
       "      <th>...</th>\n",
       "      <td>...</td>\n",
       "      <td>...</td>\n",
       "      <td>...</td>\n",
       "      <td>...</td>\n",
       "      <td>...</td>\n",
       "    </tr>\n",
       "    <tr>\n",
       "      <th>429</th>\n",
       "      <td>78.900000</td>\n",
       "      <td>83.590604</td>\n",
       "      <td>84.877412</td>\n",
       "      <td>94</td>\n",
       "      <td>4</td>\n",
       "    </tr>\n",
       "    <tr>\n",
       "      <th>430</th>\n",
       "      <td>89.297935</td>\n",
       "      <td>88.268456</td>\n",
       "      <td>92.990392</td>\n",
       "      <td>76</td>\n",
       "      <td>4</td>\n",
       "    </tr>\n",
       "    <tr>\n",
       "      <th>431</th>\n",
       "      <td>78.900000</td>\n",
       "      <td>88.268456</td>\n",
       "      <td>94.859708</td>\n",
       "      <td>50</td>\n",
       "      <td>2</td>\n",
       "    </tr>\n",
       "    <tr>\n",
       "      <th>432</th>\n",
       "      <td>89.297935</td>\n",
       "      <td>83.590604</td>\n",
       "      <td>96.856624</td>\n",
       "      <td>88</td>\n",
       "      <td>2</td>\n",
       "    </tr>\n",
       "    <tr>\n",
       "      <th>433</th>\n",
       "      <td>89.297935</td>\n",
       "      <td>88.268456</td>\n",
       "      <td>91.253336</td>\n",
       "      <td>70</td>\n",
       "      <td>2</td>\n",
       "    </tr>\n",
       "  </tbody>\n",
       "</table>\n",
       "<p>429 rows × 5 columns</p>\n",
       "</div>"
      ],
      "text/plain": [
       "     mother_high_school_flag  mother_age_binned  IQ_of_the_mother  \\\n",
       "0                  89.297935          91.880000        121.117529   \n",
       "1                  89.297935          88.268456         89.361882   \n",
       "2                  89.297935          91.880000        115.443165   \n",
       "3                  89.297935          88.268456         99.449639   \n",
       "4                  89.297935          91.880000         92.745710   \n",
       "..                       ...                ...               ...   \n",
       "429                78.900000          83.590604         84.877412   \n",
       "430                89.297935          88.268456         92.990392   \n",
       "431                78.900000          88.268456         94.859708   \n",
       "432                89.297935          83.590604         96.856624   \n",
       "433                89.297935          88.268456         91.253336   \n",
       "\n",
       "     IQ_of_the_child working_condition_of_mother  \n",
       "0                 65                           4  \n",
       "1                 98                           4  \n",
       "2                 85                           4  \n",
       "3                 83                           3  \n",
       "4                115                           4  \n",
       "..               ...                         ...  \n",
       "429               94                           4  \n",
       "430               76                           4  \n",
       "431               50                           2  \n",
       "432               88                           2  \n",
       "433               70                           2  \n",
       "\n",
       "[429 rows x 5 columns]"
      ]
     },
     "execution_count": 999,
     "metadata": {},
     "output_type": "execute_result"
    }
   ],
   "source": [
    "tenc=ce.TargetEncoder() \n",
    "tenc1=tenc.fit_transform(data_encode1['mother_high_school_flag'],data_encode1['IQ_of_the_child'])\n",
    "data_encode1 = tenc1.join(data_encode1.drop('mother_high_school_flag',axis = 1))\n",
    "data_encode1"
   ]
  },
  {
   "cell_type": "code",
   "execution_count": 1000,
   "id": "42c52e73",
   "metadata": {},
   "outputs": [
    {
     "data": {
      "text/html": [
       "<div>\n",
       "<style scoped>\n",
       "    .dataframe tbody tr th:only-of-type {\n",
       "        vertical-align: middle;\n",
       "    }\n",
       "\n",
       "    .dataframe tbody tr th {\n",
       "        vertical-align: top;\n",
       "    }\n",
       "\n",
       "    .dataframe thead th {\n",
       "        text-align: right;\n",
       "    }\n",
       "</style>\n",
       "<table border=\"1\" class=\"dataframe\">\n",
       "  <thead>\n",
       "    <tr style=\"text-align: right;\">\n",
       "      <th></th>\n",
       "      <th>working_condition_of_mother</th>\n",
       "      <th>mother_high_school_flag</th>\n",
       "      <th>mother_age_binned</th>\n",
       "      <th>IQ_of_the_mother</th>\n",
       "      <th>IQ_of_the_child</th>\n",
       "    </tr>\n",
       "  </thead>\n",
       "  <tbody>\n",
       "    <tr>\n",
       "      <th>0</th>\n",
       "      <td>87.431373</td>\n",
       "      <td>89.297935</td>\n",
       "      <td>91.880000</td>\n",
       "      <td>121.117529</td>\n",
       "      <td>65</td>\n",
       "    </tr>\n",
       "    <tr>\n",
       "      <th>1</th>\n",
       "      <td>87.431373</td>\n",
       "      <td>89.297935</td>\n",
       "      <td>88.268456</td>\n",
       "      <td>89.361882</td>\n",
       "      <td>98</td>\n",
       "    </tr>\n",
       "    <tr>\n",
       "      <th>2</th>\n",
       "      <td>87.431373</td>\n",
       "      <td>89.297935</td>\n",
       "      <td>91.880000</td>\n",
       "      <td>115.443165</td>\n",
       "      <td>85</td>\n",
       "    </tr>\n",
       "    <tr>\n",
       "      <th>3</th>\n",
       "      <td>92.581818</td>\n",
       "      <td>89.297935</td>\n",
       "      <td>88.268456</td>\n",
       "      <td>99.449639</td>\n",
       "      <td>83</td>\n",
       "    </tr>\n",
       "    <tr>\n",
       "      <th>4</th>\n",
       "      <td>87.431373</td>\n",
       "      <td>89.297935</td>\n",
       "      <td>91.880000</td>\n",
       "      <td>92.745710</td>\n",
       "      <td>115</td>\n",
       "    </tr>\n",
       "    <tr>\n",
       "      <th>...</th>\n",
       "      <td>...</td>\n",
       "      <td>...</td>\n",
       "      <td>...</td>\n",
       "      <td>...</td>\n",
       "      <td>...</td>\n",
       "    </tr>\n",
       "    <tr>\n",
       "      <th>429</th>\n",
       "      <td>87.431373</td>\n",
       "      <td>78.900000</td>\n",
       "      <td>83.590604</td>\n",
       "      <td>84.877412</td>\n",
       "      <td>94</td>\n",
       "    </tr>\n",
       "    <tr>\n",
       "      <th>430</th>\n",
       "      <td>87.431373</td>\n",
       "      <td>89.297935</td>\n",
       "      <td>88.268456</td>\n",
       "      <td>92.990392</td>\n",
       "      <td>76</td>\n",
       "    </tr>\n",
       "    <tr>\n",
       "      <th>431</th>\n",
       "      <td>87.021277</td>\n",
       "      <td>78.900000</td>\n",
       "      <td>88.268456</td>\n",
       "      <td>94.859708</td>\n",
       "      <td>50</td>\n",
       "    </tr>\n",
       "    <tr>\n",
       "      <th>432</th>\n",
       "      <td>87.021277</td>\n",
       "      <td>89.297935</td>\n",
       "      <td>83.590604</td>\n",
       "      <td>96.856624</td>\n",
       "      <td>88</td>\n",
       "    </tr>\n",
       "    <tr>\n",
       "      <th>433</th>\n",
       "      <td>87.021277</td>\n",
       "      <td>89.297935</td>\n",
       "      <td>88.268456</td>\n",
       "      <td>91.253336</td>\n",
       "      <td>70</td>\n",
       "    </tr>\n",
       "  </tbody>\n",
       "</table>\n",
       "<p>429 rows × 5 columns</p>\n",
       "</div>"
      ],
      "text/plain": [
       "     working_condition_of_mother  mother_high_school_flag  mother_age_binned  \\\n",
       "0                      87.431373                89.297935          91.880000   \n",
       "1                      87.431373                89.297935          88.268456   \n",
       "2                      87.431373                89.297935          91.880000   \n",
       "3                      92.581818                89.297935          88.268456   \n",
       "4                      87.431373                89.297935          91.880000   \n",
       "..                           ...                      ...                ...   \n",
       "429                    87.431373                78.900000          83.590604   \n",
       "430                    87.431373                89.297935          88.268456   \n",
       "431                    87.021277                78.900000          88.268456   \n",
       "432                    87.021277                89.297935          83.590604   \n",
       "433                    87.021277                89.297935          88.268456   \n",
       "\n",
       "     IQ_of_the_mother  IQ_of_the_child  \n",
       "0          121.117529               65  \n",
       "1           89.361882               98  \n",
       "2          115.443165               85  \n",
       "3           99.449639               83  \n",
       "4           92.745710              115  \n",
       "..                ...              ...  \n",
       "429         84.877412               94  \n",
       "430         92.990392               76  \n",
       "431         94.859708               50  \n",
       "432         96.856624               88  \n",
       "433         91.253336               70  \n",
       "\n",
       "[429 rows x 5 columns]"
      ]
     },
     "execution_count": 1000,
     "metadata": {},
     "output_type": "execute_result"
    }
   ],
   "source": [
    "tenc=ce.TargetEncoder() \n",
    "tenc1=tenc.fit_transform(data_encode1['working_condition_of_mother'],data_encode1['IQ_of_the_child'])\n",
    "data_encode1 = tenc1.join(data_encode1.drop('working_condition_of_mother',axis = 1))\n",
    "data_encode1"
   ]
  },
  {
   "cell_type": "markdown",
   "id": "a81b9b99",
   "metadata": {},
   "source": [
    "<u> Splitting data in training & test set </u>"
   ]
  },
  {
   "cell_type": "code",
   "execution_count": 1001,
   "id": "8b3730ec",
   "metadata": {},
   "outputs": [],
   "source": [
    "from sklearn.model_selection import train_test_split\n",
    "X = data_encode1.drop('IQ_of_the_child',axis=1) # Independent variable\n",
    "y = data_encode1['IQ_of_the_child'] # dependent variable\n",
    "\n",
    "X_train, X_test, y_train, y_test = train_test_split(X,y,test_size=0.2,random_state=23)"
   ]
  },
  {
   "cell_type": "markdown",
   "id": "1981fdc6",
   "metadata": {},
   "source": [
    "<u> Standardizing the data </u>"
   ]
  },
  {
   "cell_type": "code",
   "execution_count": 1002,
   "id": "79470840",
   "metadata": {},
   "outputs": [],
   "source": [
    "scalar = StandardScaler()\n",
    "X_train_scaled = pd.DataFrame(scalar.fit_transform(X_train),columns=X_train.columns)\n",
    "X_test_scaled = pd.DataFrame(scalar.transform(X_test),columns=X_test.columns)"
   ]
  },
  {
   "cell_type": "code",
   "execution_count": 1018,
   "id": "dae1130e",
   "metadata": {},
   "outputs": [],
   "source": [
    "y_train = y_train.reset_index().drop(['index'],axis=1)"
   ]
  },
  {
   "cell_type": "code",
   "execution_count": 1020,
   "id": "20dbe083",
   "metadata": {},
   "outputs": [],
   "source": [
    "y_test = y_test.reset_index().drop(['index'],axis=1)"
   ]
  },
  {
   "cell_type": "markdown",
   "id": "f8f8a524",
   "metadata": {},
   "source": [
    "### Single Predictor Linear Models"
   ]
  },
  {
   "cell_type": "code",
   "execution_count": 1113,
   "id": "e3a377ff",
   "metadata": {},
   "outputs": [],
   "source": [
    "from sklearn.metrics import mean_squared_error"
   ]
  },
  {
   "cell_type": "code",
   "execution_count": 1114,
   "id": "fe3e6128",
   "metadata": {},
   "outputs": [
    {
     "data": {
      "text/html": [
       "<div>\n",
       "<style scoped>\n",
       "    .dataframe tbody tr th:only-of-type {\n",
       "        vertical-align: middle;\n",
       "    }\n",
       "\n",
       "    .dataframe tbody tr th {\n",
       "        vertical-align: top;\n",
       "    }\n",
       "\n",
       "    .dataframe thead th {\n",
       "        text-align: right;\n",
       "    }\n",
       "</style>\n",
       "<table border=\"1\" class=\"dataframe\">\n",
       "  <thead>\n",
       "    <tr style=\"text-align: right;\">\n",
       "      <th></th>\n",
       "      <th>Single_Predictor</th>\n",
       "      <th>Adjusted_R_squared</th>\n",
       "      <th>Training Mean Squared error</th>\n",
       "      <th>Test Mean Squared error</th>\n",
       "    </tr>\n",
       "  </thead>\n",
       "  <tbody>\n",
       "    <tr>\n",
       "      <th>3</th>\n",
       "      <td>IQ_of_the_mother</td>\n",
       "      <td>0.201854</td>\n",
       "      <td>307.164215</td>\n",
       "      <td>350.199964</td>\n",
       "    </tr>\n",
       "    <tr>\n",
       "      <th>1</th>\n",
       "      <td>mother_high_school_flag</td>\n",
       "      <td>0.044960</td>\n",
       "      <td>367.544516</td>\n",
       "      <td>389.844449</td>\n",
       "    </tr>\n",
       "    <tr>\n",
       "      <th>0</th>\n",
       "      <td>working_condition_of_mother</td>\n",
       "      <td>0.018501</td>\n",
       "      <td>377.726997</td>\n",
       "      <td>399.612510</td>\n",
       "    </tr>\n",
       "    <tr>\n",
       "      <th>2</th>\n",
       "      <td>mother_age_binned</td>\n",
       "      <td>0.013980</td>\n",
       "      <td>379.467094</td>\n",
       "      <td>388.892563</td>\n",
       "    </tr>\n",
       "  </tbody>\n",
       "</table>\n",
       "</div>"
      ],
      "text/plain": [
       "              Single_Predictor  Adjusted_R_squared  \\\n",
       "3             IQ_of_the_mother            0.201854   \n",
       "1      mother_high_school_flag            0.044960   \n",
       "0  working_condition_of_mother            0.018501   \n",
       "2            mother_age_binned            0.013980   \n",
       "\n",
       "   Training Mean Squared error  Test Mean Squared error  \n",
       "3                   307.164215               350.199964  \n",
       "1                   367.544516               389.844449  \n",
       "0                   377.726997               399.612510  \n",
       "2                   379.467094               388.892563  "
      ]
     },
     "execution_count": 1114,
     "metadata": {},
     "output_type": "execute_result"
    }
   ],
   "source": [
    "model_results = pd.DataFrame()\n",
    "for i in X_train.columns:\n",
    "    X = X_train_scaled[[i]]\n",
    "    X = sm.add_constant(X)\n",
    "    X1 = X_test_scaled[[i]]\n",
    "    X1 = sm.add_constant(X1)\n",
    "    model = sm.OLS(y_train, X).fit()\n",
    "    model_results = model_results.append({'Single_Predictor':i,'Adjusted_R_squared':model.rsquared_adj,'Training Mean Squared error':mean_squared_error(y_train, model.predict(X)),'Test Mean Squared error':mean_squared_error(y_test, model.predict(X1))},ignore_index=True)\n",
    "model_results.sort_values(by='Adjusted_R_squared',ascending=False)"
   ]
  },
  {
   "cell_type": "markdown",
   "id": "998e0964",
   "metadata": {},
   "source": [
    "**<i> As the Adjusted R-squared value of .20 is the highest for a single predictor linear model. This model should be chosen. Now, the assumprtion regarding the error term need to be checked for this model. </i>**"
   ]
  },
  {
   "cell_type": "code",
   "execution_count": 1116,
   "id": "ed0b0fdc",
   "metadata": {},
   "outputs": [
    {
     "data": {
      "text/html": [
       "<table class=\"simpletable\">\n",
       "<caption>OLS Regression Results</caption>\n",
       "<tr>\n",
       "  <th>Dep. Variable:</th>     <td>IQ_of_the_child</td> <th>  R-squared:         </th> <td>   0.204</td>\n",
       "</tr>\n",
       "<tr>\n",
       "  <th>Model:</th>                   <td>OLS</td>       <th>  Adj. R-squared:    </th> <td>   0.202</td>\n",
       "</tr>\n",
       "<tr>\n",
       "  <th>Method:</th>             <td>Least Squares</td>  <th>  F-statistic:       </th> <td>   87.49</td>\n",
       "</tr>\n",
       "<tr>\n",
       "  <th>Date:</th>             <td>Mon, 28 Nov 2022</td> <th>  Prob (F-statistic):</th> <td>1.16e-18</td>\n",
       "</tr>\n",
       "<tr>\n",
       "  <th>Time:</th>                 <td>19:23:26</td>     <th>  Log-Likelihood:    </th> <td> -1468.9</td>\n",
       "</tr>\n",
       "<tr>\n",
       "  <th>No. Observations:</th>      <td>   343</td>      <th>  AIC:               </th> <td>   2942.</td>\n",
       "</tr>\n",
       "<tr>\n",
       "  <th>Df Residuals:</th>          <td>   341</td>      <th>  BIC:               </th> <td>   2950.</td>\n",
       "</tr>\n",
       "<tr>\n",
       "  <th>Df Model:</th>              <td>     1</td>      <th>                     </th>     <td> </td>   \n",
       "</tr>\n",
       "<tr>\n",
       "  <th>Covariance Type:</th>      <td>nonrobust</td>    <th>                     </th>     <td> </td>   \n",
       "</tr>\n",
       "</table>\n",
       "<table class=\"simpletable\">\n",
       "<tr>\n",
       "          <td></td>            <th>coef</th>     <th>std err</th>      <th>t</th>      <th>P>|t|</th>  <th>[0.025</th>    <th>0.975]</th>  \n",
       "</tr>\n",
       "<tr>\n",
       "  <th>const</th>            <td>   87.5773</td> <td>    0.949</td> <td>   92.275</td> <td> 0.000</td> <td>   85.710</td> <td>   89.444</td>\n",
       "</tr>\n",
       "<tr>\n",
       "  <th>IQ_of_the_mother</th> <td>    8.8776</td> <td>    0.949</td> <td>    9.354</td> <td> 0.000</td> <td>    7.011</td> <td>   10.744</td>\n",
       "</tr>\n",
       "</table>\n",
       "<table class=\"simpletable\">\n",
       "<tr>\n",
       "  <th>Omnibus:</th>       <td> 5.300</td> <th>  Durbin-Watson:     </th> <td>   1.865</td>\n",
       "</tr>\n",
       "<tr>\n",
       "  <th>Prob(Omnibus):</th> <td> 0.071</td> <th>  Jarque-Bera (JB):  </th> <td>   5.238</td>\n",
       "</tr>\n",
       "<tr>\n",
       "  <th>Skew:</th>          <td>-0.303</td> <th>  Prob(JB):          </th> <td>  0.0729</td>\n",
       "</tr>\n",
       "<tr>\n",
       "  <th>Kurtosis:</th>      <td> 3.017</td> <th>  Cond. No.          </th> <td>    1.00</td>\n",
       "</tr>\n",
       "</table><br/><br/>Notes:<br/>[1] Standard Errors assume that the covariance matrix of the errors is correctly specified."
      ],
      "text/plain": [
       "<class 'statsmodels.iolib.summary.Summary'>\n",
       "\"\"\"\n",
       "                            OLS Regression Results                            \n",
       "==============================================================================\n",
       "Dep. Variable:        IQ_of_the_child   R-squared:                       0.204\n",
       "Model:                            OLS   Adj. R-squared:                  0.202\n",
       "Method:                 Least Squares   F-statistic:                     87.49\n",
       "Date:                Mon, 28 Nov 2022   Prob (F-statistic):           1.16e-18\n",
       "Time:                        19:23:26   Log-Likelihood:                -1468.9\n",
       "No. Observations:                 343   AIC:                             2942.\n",
       "Df Residuals:                     341   BIC:                             2950.\n",
       "Df Model:                           1                                         \n",
       "Covariance Type:            nonrobust                                         \n",
       "====================================================================================\n",
       "                       coef    std err          t      P>|t|      [0.025      0.975]\n",
       "------------------------------------------------------------------------------------\n",
       "const               87.5773      0.949     92.275      0.000      85.710      89.444\n",
       "IQ_of_the_mother     8.8776      0.949      9.354      0.000       7.011      10.744\n",
       "==============================================================================\n",
       "Omnibus:                        5.300   Durbin-Watson:                   1.865\n",
       "Prob(Omnibus):                  0.071   Jarque-Bera (JB):                5.238\n",
       "Skew:                          -0.303   Prob(JB):                       0.0729\n",
       "Kurtosis:                       3.017   Cond. No.                         1.00\n",
       "==============================================================================\n",
       "\n",
       "Notes:\n",
       "[1] Standard Errors assume that the covariance matrix of the errors is correctly specified.\n",
       "\"\"\""
      ]
     },
     "execution_count": 1116,
     "metadata": {},
     "output_type": "execute_result"
    }
   ],
   "source": [
    "X = X_train_scaled['IQ_of_the_mother']\n",
    "X = sm.add_constant(X)\n",
    "X1 = X_test_scaled[['IQ_of_the_mother']]\n",
    "X1 = sm.add_constant(X1)\n",
    "model = sm.OLS(y_train, X).fit()\n",
    "model.summary()"
   ]
  },
  {
   "cell_type": "code",
   "execution_count": 1117,
   "id": "4a6c5883",
   "metadata": {},
   "outputs": [
    {
     "name": "stdout",
     "output_type": "stream",
     "text": [
      "Training Mean Squared error: 307.1642149861694\n",
      "Test Mean Squared error: 350.1999636846405\n"
     ]
    }
   ],
   "source": [
    "print('Training Mean Squared error: ' + str(mean_squared_error(y_train, model.predict(X))) + '\\n' + 'Test Mean Squared error: ' + str(mean_squared_error(y_test, model.predict(X1))))"
   ]
  },
  {
   "cell_type": "markdown",
   "id": "9235fc19",
   "metadata": {},
   "source": [
    "<u> Checking for assumptions </u>"
   ]
  },
  {
   "cell_type": "code",
   "execution_count": 1034,
   "id": "d0b621bc",
   "metadata": {},
   "outputs": [
    {
     "name": "stdout",
     "output_type": "stream",
     "text": [
      "eval_env: 1\n"
     ]
    },
    {
     "data": {
      "image/png": "[encoded data removed]",
      "text/plain": [
       "<Figure size 864x576 with 4 Axes>"
      ]
     },
     "metadata": {
      "needs_background": "light"
     },
     "output_type": "display_data"
    }
   ],
   "source": [
    "fig = plt.figure(figsize=(12,8))\n",
    "fig = sm.graphics.plot_regress_exog(model,'IQ_of_the_mother',fig=fig)"
   ]
  },
  {
   "cell_type": "markdown",
   "id": "1f135c40",
   "metadata": {},
   "source": [
    "**<i>We can see that the points are plotted randomly spread or scattered. points or residuals are scattered around the ‘0’ line, there is no pattern, and points are not based on one side so there’s no problem of heteroscedasticity.  with the predictor variable ‘IQ_of_the_mother’ there’s no heteroscedasticity.</i>**"
   ]
  },
  {
   "cell_type": "code",
   "execution_count": 1118,
   "id": "c6b261b2",
   "metadata": {},
   "outputs": [
    {
     "data": {
      "text/plain": [
       "const               87.577259\n",
       "IQ_of_the_mother     8.877589\n",
       "dtype: float64"
      ]
     },
     "execution_count": 1118,
     "metadata": {},
     "output_type": "execute_result"
    }
   ],
   "source": [
    "model.params"
   ]
  },
  {
   "cell_type": "markdown",
   "id": "8f8b0f4b",
   "metadata": {},
   "source": [
    "**<i>This means with a unit increase in IQ_of_the_mother (standardized) there is a increase of 8.87 times the IQ_of_the_child.</i>**"
   ]
  },
  {
   "cell_type": "markdown",
   "id": "cd381fbc",
   "metadata": {},
   "source": [
    "### Multiple Predictor Linear Models"
   ]
  },
  {
   "cell_type": "code",
   "execution_count": 1094,
   "id": "abfa32cf",
   "metadata": {},
   "outputs": [],
   "source": [
    "from itertools import combinations"
   ]
  },
  {
   "cell_type": "code",
   "execution_count": 1119,
   "id": "024761b5",
   "metadata": {},
   "outputs": [
    {
     "data": {
      "text/html": [
       "<div>\n",
       "<style scoped>\n",
       "    .dataframe tbody tr th:only-of-type {\n",
       "        vertical-align: middle;\n",
       "    }\n",
       "\n",
       "    .dataframe tbody tr th {\n",
       "        vertical-align: top;\n",
       "    }\n",
       "\n",
       "    .dataframe thead th {\n",
       "        text-align: right;\n",
       "    }\n",
       "</style>\n",
       "<table border=\"1\" class=\"dataframe\">\n",
       "  <thead>\n",
       "    <tr style=\"text-align: right;\">\n",
       "      <th></th>\n",
       "      <th>Multiple_Predictor</th>\n",
       "      <th>Adjusted_R_squared</th>\n",
       "      <th>AIC</th>\n",
       "      <th>BIC</th>\n",
       "      <th>Training Mean Squared error</th>\n",
       "      <th>Test Mean Squared error</th>\n",
       "    </tr>\n",
       "  </thead>\n",
       "  <tbody>\n",
       "    <tr>\n",
       "      <th>10</th>\n",
       "      <td>(working_condition_of_mother, mother_high_scho...</td>\n",
       "      <td>0.216691</td>\n",
       "      <td>2938.417184</td>\n",
       "      <td>2957.605836</td>\n",
       "      <td>298.802363</td>\n",
       "      <td>343.415592</td>\n",
       "    </tr>\n",
       "    <tr>\n",
       "      <th>7</th>\n",
       "      <td>(working_condition_of_mother, mother_high_scho...</td>\n",
       "      <td>0.213888</td>\n",
       "      <td>2938.655498</td>\n",
       "      <td>2954.006420</td>\n",
       "      <td>300.758633</td>\n",
       "      <td>350.465074</td>\n",
       "    </tr>\n",
       "    <tr>\n",
       "      <th>9</th>\n",
       "      <td>(mother_high_school_flag, mother_age_binned, I...</td>\n",
       "      <td>0.213488</td>\n",
       "      <td>2938.830025</td>\n",
       "      <td>2954.180947</td>\n",
       "      <td>300.911705</td>\n",
       "      <td>343.876522</td>\n",
       "    </tr>\n",
       "    <tr>\n",
       "      <th>8</th>\n",
       "      <td>(working_condition_of_mother, mother_age_binne...</td>\n",
       "      <td>0.211202</td>\n",
       "      <td>2939.825429</td>\n",
       "      <td>2955.176351</td>\n",
       "      <td>301.786236</td>\n",
       "      <td>341.351604</td>\n",
       "    </tr>\n",
       "    <tr>\n",
       "      <th>4</th>\n",
       "      <td>(mother_high_school_flag, IQ_of_the_mother)</td>\n",
       "      <td>0.211145</td>\n",
       "      <td>2938.860373</td>\n",
       "      <td>2950.373564</td>\n",
       "      <td>302.698199</td>\n",
       "      <td>350.871172</td>\n",
       "    </tr>\n",
       "    <tr>\n",
       "      <th>2</th>\n",
       "      <td>(working_condition_of_mother, IQ_of_the_mother)</td>\n",
       "      <td>0.206642</td>\n",
       "      <td>2940.812841</td>\n",
       "      <td>2952.326033</td>\n",
       "      <td>304.426169</td>\n",
       "      <td>349.528232</td>\n",
       "    </tr>\n",
       "    <tr>\n",
       "      <th>5</th>\n",
       "      <td>(mother_age_binned, IQ_of_the_mother)</td>\n",
       "      <td>0.206001</td>\n",
       "      <td>2941.089847</td>\n",
       "      <td>2952.603039</td>\n",
       "      <td>304.672123</td>\n",
       "      <td>341.841008</td>\n",
       "    </tr>\n",
       "    <tr>\n",
       "      <th>6</th>\n",
       "      <td>(working_condition_of_mother, mother_high_scho...</td>\n",
       "      <td>0.063032</td>\n",
       "      <td>2998.869055</td>\n",
       "      <td>3014.219977</td>\n",
       "      <td>358.474593</td>\n",
       "      <td>376.907714</td>\n",
       "    </tr>\n",
       "    <tr>\n",
       "      <th>0</th>\n",
       "      <td>(working_condition_of_mother, mother_high_scho...</td>\n",
       "      <td>0.054954</td>\n",
       "      <td>3000.823757</td>\n",
       "      <td>3012.336948</td>\n",
       "      <td>362.631632</td>\n",
       "      <td>387.730633</td>\n",
       "    </tr>\n",
       "    <tr>\n",
       "      <th>3</th>\n",
       "      <td>(mother_high_school_flag, mother_age_binned)</td>\n",
       "      <td>0.052158</td>\n",
       "      <td>3001.837126</td>\n",
       "      <td>3013.350317</td>\n",
       "      <td>363.704585</td>\n",
       "      <td>378.862483</td>\n",
       "    </tr>\n",
       "    <tr>\n",
       "      <th>1</th>\n",
       "      <td>(working_condition_of_mother, mother_age_binned)</td>\n",
       "      <td>0.033030</td>\n",
       "      <td>3008.690372</td>\n",
       "      <td>3020.203563</td>\n",
       "      <td>371.044599</td>\n",
       "      <td>384.125888</td>\n",
       "    </tr>\n",
       "  </tbody>\n",
       "</table>\n",
       "</div>"
      ],
      "text/plain": [
       "                                   Multiple_Predictor  Adjusted_R_squared  \\\n",
       "10  (working_condition_of_mother, mother_high_scho...            0.216691   \n",
       "7   (working_condition_of_mother, mother_high_scho...            0.213888   \n",
       "9   (mother_high_school_flag, mother_age_binned, I...            0.213488   \n",
       "8   (working_condition_of_mother, mother_age_binne...            0.211202   \n",
       "4         (mother_high_school_flag, IQ_of_the_mother)            0.211145   \n",
       "2     (working_condition_of_mother, IQ_of_the_mother)            0.206642   \n",
       "5               (mother_age_binned, IQ_of_the_mother)            0.206001   \n",
       "6   (working_condition_of_mother, mother_high_scho...            0.063032   \n",
       "0   (working_condition_of_mother, mother_high_scho...            0.054954   \n",
       "3        (mother_high_school_flag, mother_age_binned)            0.052158   \n",
       "1    (working_condition_of_mother, mother_age_binned)            0.033030   \n",
       "\n",
       "            AIC          BIC  Training Mean Squared error  \\\n",
       "10  2938.417184  2957.605836                   298.802363   \n",
       "7   2938.655498  2954.006420                   300.758633   \n",
       "9   2938.830025  2954.180947                   300.911705   \n",
       "8   2939.825429  2955.176351                   301.786236   \n",
       "4   2938.860373  2950.373564                   302.698199   \n",
       "2   2940.812841  2952.326033                   304.426169   \n",
       "5   2941.089847  2952.603039                   304.672123   \n",
       "6   2998.869055  3014.219977                   358.474593   \n",
       "0   3000.823757  3012.336948                   362.631632   \n",
       "3   3001.837126  3013.350317                   363.704585   \n",
       "1   3008.690372  3020.203563                   371.044599   \n",
       "\n",
       "    Test Mean Squared error  \n",
       "10               343.415592  \n",
       "7                350.465074  \n",
       "9                343.876522  \n",
       "8                341.351604  \n",
       "4                350.871172  \n",
       "2                349.528232  \n",
       "5                341.841008  \n",
       "6                376.907714  \n",
       "0                387.730633  \n",
       "3                378.862483  \n",
       "1                384.125888  "
      ]
     },
     "execution_count": 1119,
     "metadata": {},
     "output_type": "execute_result"
    }
   ],
   "source": [
    "model_results = pd.DataFrame()\n",
    "for i in range(2,len(X_train.columns)+1):\n",
    "    for j in list(combinations(X_train.columns,i)):\n",
    "        X = X_train_scaled[list(j)]\n",
    "        X = sm.add_constant(X)\n",
    "        X1 = X_test_scaled[list(j)]\n",
    "        X1 = sm.add_constant(X1)\n",
    "        model = sm.OLS(y_train, X).fit()\n",
    "        model_results = model_results.append({'Multiple_Predictor':j,'Adjusted_R_squared':model.rsquared_adj,'AIC':model.aic,'BIC':model.bic,'Training Mean Squared error':mean_squared_error(y_train, model.predict(X)),'Test Mean Squared error':mean_squared_error(y_test, model.predict(X1))},ignore_index=True)\n",
    "model_results.sort_values(by='Adjusted_R_squared',ascending=False)\n"
   ]
  },
  {
   "cell_type": "markdown",
   "id": "990820ed",
   "metadata": {},
   "source": [
    "**<i> As the Adjusted R-squared value of first five models is approximately same .21 \\& the Training Mean squared error (≈ 300) \\& test Mean squared error (≈ 345) is also approximately  same. The model can be decided based on AIC \\& BIC. The model which has only 2 predictors can be chosen: (mother_high_school_flag, IQ_of_the_mother) as it has the least AIC \\& BIC. Also according to Occam's razor this should be chosen as this model has only 2 predictors. The other models have higher number of predictors but give approximately the same result as this model.</i>**\n",
    "    \n",
    "**<i>Occam's razor is a principle of theory construction or evaluation according to which, other things equal, explanations that posit fewer entities, or fewer kinds of entities, are to be preferred to explanations that posit more.</i>**"
   ]
  },
  {
   "cell_type": "code",
   "execution_count": 1120,
   "id": "6643db27",
   "metadata": {},
   "outputs": [
    {
     "data": {
      "text/html": [
       "<table class=\"simpletable\">\n",
       "<caption>OLS Regression Results</caption>\n",
       "<tr>\n",
       "  <th>Dep. Variable:</th>     <td>IQ_of_the_child</td> <th>  R-squared:         </th> <td>   0.216</td>\n",
       "</tr>\n",
       "<tr>\n",
       "  <th>Model:</th>                   <td>OLS</td>       <th>  Adj. R-squared:    </th> <td>   0.211</td>\n",
       "</tr>\n",
       "<tr>\n",
       "  <th>Method:</th>             <td>Least Squares</td>  <th>  F-statistic:       </th> <td>   46.77</td>\n",
       "</tr>\n",
       "<tr>\n",
       "  <th>Date:</th>             <td>Tue, 29 Nov 2022</td> <th>  Prob (F-statistic):</th> <td>1.14e-18</td>\n",
       "</tr>\n",
       "<tr>\n",
       "  <th>Time:</th>                 <td>00:43:45</td>     <th>  Log-Likelihood:    </th> <td> -1466.4</td>\n",
       "</tr>\n",
       "<tr>\n",
       "  <th>No. Observations:</th>      <td>   343</td>      <th>  AIC:               </th> <td>   2939.</td>\n",
       "</tr>\n",
       "<tr>\n",
       "  <th>Df Residuals:</th>          <td>   340</td>      <th>  BIC:               </th> <td>   2950.</td>\n",
       "</tr>\n",
       "<tr>\n",
       "  <th>Df Model:</th>              <td>     2</td>      <th>                     </th>     <td> </td>   \n",
       "</tr>\n",
       "<tr>\n",
       "  <th>Covariance Type:</th>      <td>nonrobust</td>    <th>                     </th>     <td> </td>   \n",
       "</tr>\n",
       "</table>\n",
       "<table class=\"simpletable\">\n",
       "<tr>\n",
       "             <td></td>                <th>coef</th>     <th>std err</th>      <th>t</th>      <th>P>|t|</th>  <th>[0.025</th>    <th>0.975]</th>  \n",
       "</tr>\n",
       "<tr>\n",
       "  <th>const</th>                   <td>   87.5773</td> <td>    0.944</td> <td>   92.817</td> <td> 0.000</td> <td>   85.721</td> <td>   89.433</td>\n",
       "</tr>\n",
       "<tr>\n",
       "  <th>IQ_of_the_mother</th>        <td>    8.3242</td> <td>    0.975</td> <td>    8.534</td> <td> 0.000</td> <td>    6.406</td> <td>   10.243</td>\n",
       "</tr>\n",
       "<tr>\n",
       "  <th>mother_high_school_flag</th> <td>    2.1845</td> <td>    0.975</td> <td>    2.240</td> <td> 0.026</td> <td>    0.266</td> <td>    4.103</td>\n",
       "</tr>\n",
       "</table>\n",
       "<table class=\"simpletable\">\n",
       "<tr>\n",
       "  <th>Omnibus:</th>       <td> 5.862</td> <th>  Durbin-Watson:     </th> <td>   1.851</td>\n",
       "</tr>\n",
       "<tr>\n",
       "  <th>Prob(Omnibus):</th> <td> 0.053</td> <th>  Jarque-Bera (JB):  </th> <td>   5.850</td>\n",
       "</tr>\n",
       "<tr>\n",
       "  <th>Skew:</th>          <td>-0.320</td> <th>  Prob(JB):          </th> <td>  0.0537</td>\n",
       "</tr>\n",
       "<tr>\n",
       "  <th>Kurtosis:</th>      <td> 3.001</td> <th>  Cond. No.          </th> <td>    1.30</td>\n",
       "</tr>\n",
       "</table><br/><br/>Notes:<br/>[1] Standard Errors assume that the covariance matrix of the errors is correctly specified."
      ],
      "text/plain": [
       "<class 'statsmodels.iolib.summary.Summary'>\n",
       "\"\"\"\n",
       "                            OLS Regression Results                            \n",
       "==============================================================================\n",
       "Dep. Variable:        IQ_of_the_child   R-squared:                       0.216\n",
       "Model:                            OLS   Adj. R-squared:                  0.211\n",
       "Method:                 Least Squares   F-statistic:                     46.77\n",
       "Date:                Tue, 29 Nov 2022   Prob (F-statistic):           1.14e-18\n",
       "Time:                        00:43:45   Log-Likelihood:                -1466.4\n",
       "No. Observations:                 343   AIC:                             2939.\n",
       "Df Residuals:                     340   BIC:                             2950.\n",
       "Df Model:                           2                                         \n",
       "Covariance Type:            nonrobust                                         \n",
       "===========================================================================================\n",
       "                              coef    std err          t      P>|t|      [0.025      0.975]\n",
       "-------------------------------------------------------------------------------------------\n",
       "const                      87.5773      0.944     92.817      0.000      85.721      89.433\n",
       "IQ_of_the_mother            8.3242      0.975      8.534      0.000       6.406      10.243\n",
       "mother_high_school_flag     2.1845      0.975      2.240      0.026       0.266       4.103\n",
       "==============================================================================\n",
       "Omnibus:                        5.862   Durbin-Watson:                   1.851\n",
       "Prob(Omnibus):                  0.053   Jarque-Bera (JB):                5.850\n",
       "Skew:                          -0.320   Prob(JB):                       0.0537\n",
       "Kurtosis:                       3.001   Cond. No.                         1.30\n",
       "==============================================================================\n",
       "\n",
       "Notes:\n",
       "[1] Standard Errors assume that the covariance matrix of the errors is correctly specified.\n",
       "\"\"\""
      ]
     },
     "execution_count": 1120,
     "metadata": {},
     "output_type": "execute_result"
    }
   ],
   "source": [
    "X = X_train_scaled[['IQ_of_the_mother','mother_high_school_flag']]\n",
    "X = sm.add_constant(X)\n",
    "X1 = X_test_scaled[['IQ_of_the_mother','mother_high_school_flag']]\n",
    "X1 = sm.add_constant(X1)\n",
    "model = sm.OLS(y_train, X).fit()\n",
    "model.summary()"
   ]
  },
  {
   "cell_type": "code",
   "execution_count": 1121,
   "id": "c71f3c69",
   "metadata": {},
   "outputs": [
    {
     "name": "stdout",
     "output_type": "stream",
     "text": [
      "Training Mean Squared error: 302.6981988676369\n",
      "Test Mean Squared error: 350.87117184545673\n"
     ]
    }
   ],
   "source": [
    "print('Training Mean Squared error: ' + str(mean_squared_error(y_train, model.predict(X))) + '\\n' + 'Test Mean Squared error: ' + str(mean_squared_error(y_test, model.predict(X1))))\n"
   ]
  },
  {
   "cell_type": "markdown",
   "id": "03b144d7",
   "metadata": {},
   "source": [
    "<u> Checking for assumptions </u>"
   ]
  },
  {
   "cell_type": "code",
   "execution_count": 1039,
   "id": "e9b98f3b",
   "metadata": {},
   "outputs": [
    {
     "name": "stdout",
     "output_type": "stream",
     "text": [
      "eval_env: 1\n"
     ]
    },
    {
     "data": {
      "image/png": "[encoded data removed]",
      "text/plain": [
       "<Figure size 864x576 with 4 Axes>"
      ]
     },
     "metadata": {
      "needs_background": "light"
     },
     "output_type": "display_data"
    }
   ],
   "source": [
    "fig = plt.figure(figsize=(12,8))\n",
    "fig = sm.graphics.plot_regress_exog(model,'IQ_of_the_mother',fig=fig)"
   ]
  },
  {
   "cell_type": "code",
   "execution_count": 1040,
   "id": "9cf06ecb",
   "metadata": {},
   "outputs": [
    {
     "name": "stdout",
     "output_type": "stream",
     "text": [
      "eval_env: 1\n"
     ]
    },
    {
     "data": {
      "image/png": "[encoded data removed]",
      "text/plain": [
       "<Figure size 864x576 with 4 Axes>"
      ]
     },
     "metadata": {
      "needs_background": "light"
     },
     "output_type": "display_data"
    }
   ],
   "source": [
    "fig = plt.figure(figsize=(12,8))\n",
    "fig = sm.graphics.plot_regress_exog(model,'mother_high_school_flag',fig=fig)"
   ]
  },
  {
   "cell_type": "markdown",
   "id": "92784d11",
   "metadata": {},
   "source": [
    "**<i>We can see that the points in both the plots are plotted randomly spread or scattered. Points or residuals are scattered around the ‘0’ line, there is no pattern, and points are not based on one side so there’s no problem of heteroscedasticity.  With both the predictor variables ‘IQ_of_the_mother’ & 'mother_high_school_flag' there’s no heteroscedasticity.</i>**"
   ]
  },
  {
   "cell_type": "code",
   "execution_count": 1122,
   "id": "2059a51a",
   "metadata": {},
   "outputs": [
    {
     "data": {
      "text/plain": [
       "const                      87.577259\n",
       "IQ_of_the_mother            8.324218\n",
       "mother_high_school_flag     2.184545\n",
       "dtype: float64"
      ]
     },
     "execution_count": 1122,
     "metadata": {},
     "output_type": "execute_result"
    }
   ],
   "source": [
    "model.params"
   ]
  },
  {
   "cell_type": "markdown",
   "id": "3ebf93b2",
   "metadata": {},
   "source": [
    "**<i>This means that if the IQ_of_the_mother (standarized) is increased by 1 unit (provided mother_high_school_flag is unchanged) then there is 8.32 times increase in the IQ of the child. Also, if the mother_high_school_flag (standardized) is increased by 1 unit (provided IQ_of_the_mother is unchanged) then there is 2.18 times increase in the IQ of the child.</i>**\n",
    "\n",
    "**<i>By seeing the absolue value of the coefficient, their feature imporatnce can also be concluded: IQ_of_the_mother is more important than mother_high_school_flag as the coefficent value is 8.32 \\& 2.18 respectively. </i>**"
   ]
  },
  {
   "cell_type": "markdown",
   "id": "37c1bc27",
   "metadata": {},
   "source": [
    "### Mutliple Predictor Linear Model with Interaction"
   ]
  },
  {
   "cell_type": "code",
   "execution_count": 1123,
   "id": "432cc0b5",
   "metadata": {},
   "outputs": [],
   "source": [
    "poly = PolynomialFeatures(interaction_only=True)\n",
    "X_tr = poly.fit_transform(X_train_scaled)"
   ]
  },
  {
   "cell_type": "code",
   "execution_count": 1124,
   "id": "1386c104",
   "metadata": {},
   "outputs": [
    {
     "data": {
      "text/plain": [
       "['1',\n",
       " 'x0',\n",
       " 'x1',\n",
       " 'x2',\n",
       " 'x3',\n",
       " 'x0 x1',\n",
       " 'x0 x2',\n",
       " 'x0 x3',\n",
       " 'x1 x2',\n",
       " 'x1 x3',\n",
       " 'x2 x3']"
      ]
     },
     "execution_count": 1124,
     "metadata": {},
     "output_type": "execute_result"
    }
   ],
   "source": [
    "poly.get_feature_names()"
   ]
  },
  {
   "cell_type": "code",
   "execution_count": 1125,
   "id": "424463d6",
   "metadata": {},
   "outputs": [
    {
     "data": {
      "text/plain": [
       "['1',\n",
       " 'working_condition_of_mother',\n",
       " 'mother_high_school_flag',\n",
       " 'mother_age_binned',\n",
       " 'IQ_of_the_mother',\n",
       " 'working_condition_of_mother mother_high_school_flag',\n",
       " 'working_condition_of_mother mother_age_binned',\n",
       " 'working_condition_of_mother IQ_of_the_mother',\n",
       " 'mother_high_school_flag mother_age_binned',\n",
       " 'mother_high_school_flag IQ_of_the_mother',\n",
       " 'mother_age_binned IQ_of_the_mother']"
      ]
     },
     "execution_count": 1125,
     "metadata": {},
     "output_type": "execute_result"
    }
   ],
   "source": [
    "poly.get_feature_names(X_train_scaled.columns)"
   ]
  },
  {
   "cell_type": "markdown",
   "id": "5d0c55a3",
   "metadata": {},
   "source": [
    "So, x0 = working_condition_of_mother, x1 = mother_high_school_flag, x2 = mother_age_binned, x3 = IQ_of_the_mother"
   ]
  },
  {
   "cell_type": "code",
   "execution_count": 1126,
   "id": "b1d740e7",
   "metadata": {},
   "outputs": [
    {
     "data": {
      "text/html": [
       "<table class=\"simpletable\">\n",
       "<caption>OLS Regression Results</caption>\n",
       "<tr>\n",
       "  <th>Dep. Variable:</th>     <td>IQ_of_the_child</td> <th>  R-squared:         </th> <td>   0.254</td>\n",
       "</tr>\n",
       "<tr>\n",
       "  <th>Model:</th>                   <td>OLS</td>       <th>  Adj. R-squared:    </th> <td>   0.231</td>\n",
       "</tr>\n",
       "<tr>\n",
       "  <th>Method:</th>             <td>Least Squares</td>  <th>  F-statistic:       </th> <td>   11.28</td>\n",
       "</tr>\n",
       "<tr>\n",
       "  <th>Date:</th>             <td>Tue, 29 Nov 2022</td> <th>  Prob (F-statistic):</th> <td>1.21e-16</td>\n",
       "</tr>\n",
       "<tr>\n",
       "  <th>Time:</th>                 <td>00:50:11</td>     <th>  Log-Likelihood:    </th> <td> -1457.9</td>\n",
       "</tr>\n",
       "<tr>\n",
       "  <th>No. Observations:</th>      <td>   343</td>      <th>  AIC:               </th> <td>   2938.</td>\n",
       "</tr>\n",
       "<tr>\n",
       "  <th>Df Residuals:</th>          <td>   332</td>      <th>  BIC:               </th> <td>   2980.</td>\n",
       "</tr>\n",
       "<tr>\n",
       "  <th>Df Model:</th>              <td>    10</td>      <th>                     </th>     <td> </td>   \n",
       "</tr>\n",
       "<tr>\n",
       "  <th>Covariance Type:</th>      <td>nonrobust</td>    <th>                     </th>     <td> </td>   \n",
       "</tr>\n",
       "</table>\n",
       "<table class=\"simpletable\">\n",
       "<tr>\n",
       "    <td></td>       <th>coef</th>     <th>std err</th>      <th>t</th>      <th>P>|t|</th>  <th>[0.025</th>    <th>0.975]</th>  \n",
       "</tr>\n",
       "<tr>\n",
       "  <th>const</th> <td>   88.3472</td> <td>    0.993</td> <td>   88.944</td> <td> 0.000</td> <td>   86.393</td> <td>   90.301</td>\n",
       "</tr>\n",
       "<tr>\n",
       "  <th>x1</th>    <td>    1.1320</td> <td>    0.994</td> <td>    1.139</td> <td> 0.255</td> <td>   -0.823</td> <td>    3.087</td>\n",
       "</tr>\n",
       "<tr>\n",
       "  <th>x2</th>    <td>    1.0581</td> <td>    1.120</td> <td>    0.944</td> <td> 0.346</td> <td>   -1.146</td> <td>    3.262</td>\n",
       "</tr>\n",
       "<tr>\n",
       "  <th>x3</th>    <td>    1.5149</td> <td>    0.963</td> <td>    1.572</td> <td> 0.117</td> <td>   -0.380</td> <td>    3.410</td>\n",
       "</tr>\n",
       "<tr>\n",
       "  <th>x4</th>    <td>    8.3166</td> <td>    0.985</td> <td>    8.441</td> <td> 0.000</td> <td>    6.379</td> <td>   10.255</td>\n",
       "</tr>\n",
       "<tr>\n",
       "  <th>x5</th>    <td>   -0.4272</td> <td>    0.961</td> <td>   -0.445</td> <td> 0.657</td> <td>   -2.317</td> <td>    1.463</td>\n",
       "</tr>\n",
       "<tr>\n",
       "  <th>x6</th>    <td>    1.2590</td> <td>    0.982</td> <td>    1.283</td> <td> 0.201</td> <td>   -0.672</td> <td>    3.190</td>\n",
       "</tr>\n",
       "<tr>\n",
       "  <th>x7</th>    <td>   -0.2341</td> <td>    0.945</td> <td>   -0.248</td> <td> 0.804</td> <td>   -2.092</td> <td>    1.624</td>\n",
       "</tr>\n",
       "<tr>\n",
       "  <th>x8</th>    <td>    0.7290</td> <td>    1.115</td> <td>    0.654</td> <td> 0.514</td> <td>   -1.464</td> <td>    2.922</td>\n",
       "</tr>\n",
       "<tr>\n",
       "  <th>x9</th>    <td>   -2.3268</td> <td>    1.138</td> <td>   -2.045</td> <td> 0.042</td> <td>   -4.565</td> <td>   -0.088</td>\n",
       "</tr>\n",
       "<tr>\n",
       "  <th>x10</th>   <td>   -1.5276</td> <td>    0.966</td> <td>   -1.581</td> <td> 0.115</td> <td>   -3.429</td> <td>    0.374</td>\n",
       "</tr>\n",
       "</table>\n",
       "<table class=\"simpletable\">\n",
       "<tr>\n",
       "  <th>Omnibus:</th>       <td> 6.962</td> <th>  Durbin-Watson:     </th> <td>   1.879</td>\n",
       "</tr>\n",
       "<tr>\n",
       "  <th>Prob(Omnibus):</th> <td> 0.031</td> <th>  Jarque-Bera (JB):  </th> <td>   6.972</td>\n",
       "</tr>\n",
       "<tr>\n",
       "  <th>Skew:</th>          <td>-0.349</td> <th>  Prob(JB):          </th> <td>  0.0306</td>\n",
       "</tr>\n",
       "<tr>\n",
       "  <th>Kurtosis:</th>      <td> 3.029</td> <th>  Cond. No.          </th> <td>    2.45</td>\n",
       "</tr>\n",
       "</table><br/><br/>Notes:<br/>[1] Standard Errors assume that the covariance matrix of the errors is correctly specified."
      ],
      "text/plain": [
       "<class 'statsmodels.iolib.summary.Summary'>\n",
       "\"\"\"\n",
       "                            OLS Regression Results                            \n",
       "==============================================================================\n",
       "Dep. Variable:        IQ_of_the_child   R-squared:                       0.254\n",
       "Model:                            OLS   Adj. R-squared:                  0.231\n",
       "Method:                 Least Squares   F-statistic:                     11.28\n",
       "Date:                Tue, 29 Nov 2022   Prob (F-statistic):           1.21e-16\n",
       "Time:                        00:50:11   Log-Likelihood:                -1457.9\n",
       "No. Observations:                 343   AIC:                             2938.\n",
       "Df Residuals:                     332   BIC:                             2980.\n",
       "Df Model:                          10                                         \n",
       "Covariance Type:            nonrobust                                         \n",
       "==============================================================================\n",
       "                 coef    std err          t      P>|t|      [0.025      0.975]\n",
       "------------------------------------------------------------------------------\n",
       "const         88.3472      0.993     88.944      0.000      86.393      90.301\n",
       "x1             1.1320      0.994      1.139      0.255      -0.823       3.087\n",
       "x2             1.0581      1.120      0.944      0.346      -1.146       3.262\n",
       "x3             1.5149      0.963      1.572      0.117      -0.380       3.410\n",
       "x4             8.3166      0.985      8.441      0.000       6.379      10.255\n",
       "x5            -0.4272      0.961     -0.445      0.657      -2.317       1.463\n",
       "x6             1.2590      0.982      1.283      0.201      -0.672       3.190\n",
       "x7            -0.2341      0.945     -0.248      0.804      -2.092       1.624\n",
       "x8             0.7290      1.115      0.654      0.514      -1.464       2.922\n",
       "x9            -2.3268      1.138     -2.045      0.042      -4.565      -0.088\n",
       "x10           -1.5276      0.966     -1.581      0.115      -3.429       0.374\n",
       "==============================================================================\n",
       "Omnibus:                        6.962   Durbin-Watson:                   1.879\n",
       "Prob(Omnibus):                  0.031   Jarque-Bera (JB):                6.972\n",
       "Skew:                          -0.349   Prob(JB):                       0.0306\n",
       "Kurtosis:                       3.029   Cond. No.                         2.45\n",
       "==============================================================================\n",
       "\n",
       "Notes:\n",
       "[1] Standard Errors assume that the covariance matrix of the errors is correctly specified.\n",
       "\"\"\""
      ]
     },
     "execution_count": 1126,
     "metadata": {},
     "output_type": "execute_result"
    }
   ],
   "source": [
    "model = sm.OLS(y_train, X_tr).fit()\n",
    "model.summary()"
   ]
  },
  {
   "cell_type": "markdown",
   "id": "67670295",
   "metadata": {},
   "source": [
    "**<i>This model has all the features and all the interactions, it has adjusted R-squared of .231 & AIC of 2938. & BIC of 2980.</i>**"
   ]
  },
  {
   "cell_type": "markdown",
   "id": "59275f13",
   "metadata": {},
   "source": [
    "<u>Trying another model with lesser number of features.</u>"
   ]
  },
  {
   "cell_type": "code",
   "execution_count": 1127,
   "id": "6fa59b76",
   "metadata": {},
   "outputs": [],
   "source": [
    "poly = PolynomialFeatures(interaction_only=True)\n",
    "X_tr = poly.fit_transform(X_train_scaled[['IQ_of_the_mother','mother_high_school_flag']])"
   ]
  },
  {
   "cell_type": "code",
   "execution_count": 1128,
   "id": "235c9b2d",
   "metadata": {},
   "outputs": [],
   "source": [
    "X_te = poly.transform(X_test_scaled[['IQ_of_the_mother','mother_high_school_flag']])"
   ]
  },
  {
   "cell_type": "code",
   "execution_count": 1129,
   "id": "d320a522",
   "metadata": {},
   "outputs": [
    {
     "data": {
      "text/plain": [
       "['1', 'x0', 'x1', 'x0 x1']"
      ]
     },
     "execution_count": 1129,
     "metadata": {},
     "output_type": "execute_result"
    }
   ],
   "source": [
    "poly.get_feature_names()"
   ]
  },
  {
   "cell_type": "code",
   "execution_count": 1130,
   "id": "13b75d03",
   "metadata": {},
   "outputs": [
    {
     "data": {
      "text/plain": [
       "['1',\n",
       " 'working_condition_of_mother',\n",
       " 'mother_high_school_flag',\n",
       " 'working_condition_of_mother mother_high_school_flag']"
      ]
     },
     "execution_count": 1130,
     "metadata": {},
     "output_type": "execute_result"
    }
   ],
   "source": [
    "poly.get_feature_names(X_train_scaled.columns)"
   ]
  },
  {
   "cell_type": "markdown",
   "id": "0560e97e",
   "metadata": {},
   "source": [
    "So, x1 - working_condition_of_mother, x2 - mother_high_school_flag, x3 - working_condition_of_mother mother_high_school_flag"
   ]
  },
  {
   "cell_type": "code",
   "execution_count": 1131,
   "id": "8f979c36",
   "metadata": {},
   "outputs": [
    {
     "data": {
      "text/html": [
       "<table class=\"simpletable\">\n",
       "<caption>OLS Regression Results</caption>\n",
       "<tr>\n",
       "  <th>Dep. Variable:</th>     <td>IQ_of_the_child</td> <th>  R-squared:         </th> <td>   0.234</td>\n",
       "</tr>\n",
       "<tr>\n",
       "  <th>Model:</th>                   <td>OLS</td>       <th>  Adj. R-squared:    </th> <td>   0.227</td>\n",
       "</tr>\n",
       "<tr>\n",
       "  <th>Method:</th>             <td>Least Squares</td>  <th>  F-statistic:       </th> <td>   34.54</td>\n",
       "</tr>\n",
       "<tr>\n",
       "  <th>Date:</th>             <td>Tue, 29 Nov 2022</td> <th>  Prob (F-statistic):</th> <td>1.68e-19</td>\n",
       "</tr>\n",
       "<tr>\n",
       "  <th>Time:</th>                 <td>00:50:17</td>     <th>  Log-Likelihood:    </th> <td> -1462.4</td>\n",
       "</tr>\n",
       "<tr>\n",
       "  <th>No. Observations:</th>      <td>   343</td>      <th>  AIC:               </th> <td>   2933.</td>\n",
       "</tr>\n",
       "<tr>\n",
       "  <th>Df Residuals:</th>          <td>   339</td>      <th>  BIC:               </th> <td>   2948.</td>\n",
       "</tr>\n",
       "<tr>\n",
       "  <th>Df Model:</th>              <td>     3</td>      <th>                     </th>     <td> </td>   \n",
       "</tr>\n",
       "<tr>\n",
       "  <th>Covariance Type:</th>      <td>nonrobust</td>    <th>                     </th>     <td> </td>   \n",
       "</tr>\n",
       "</table>\n",
       "<table class=\"simpletable\">\n",
       "<tr>\n",
       "    <td></td>       <th>coef</th>     <th>std err</th>      <th>t</th>      <th>P>|t|</th>  <th>[0.025</th>    <th>0.975]</th>  \n",
       "</tr>\n",
       "<tr>\n",
       "  <th>const</th> <td>   88.3341</td> <td>    0.971</td> <td>   90.982</td> <td> 0.000</td> <td>   86.424</td> <td>   90.244</td>\n",
       "</tr>\n",
       "<tr>\n",
       "  <th>x1</th>    <td>    8.6319</td> <td>    0.971</td> <td>    8.887</td> <td> 0.000</td> <td>    6.721</td> <td>   10.542</td>\n",
       "</tr>\n",
       "<tr>\n",
       "  <th>x2</th>    <td>    1.0606</td> <td>    1.043</td> <td>    1.017</td> <td> 0.310</td> <td>   -0.991</td> <td>    3.112</td>\n",
       "</tr>\n",
       "<tr>\n",
       "  <th>x3</th>    <td>   -2.9876</td> <td>    1.049</td> <td>   -2.849</td> <td> 0.005</td> <td>   -5.051</td> <td>   -0.925</td>\n",
       "</tr>\n",
       "</table>\n",
       "<table class=\"simpletable\">\n",
       "<tr>\n",
       "  <th>Omnibus:</th>       <td> 6.904</td> <th>  Durbin-Watson:     </th> <td>   1.874</td>\n",
       "</tr>\n",
       "<tr>\n",
       "  <th>Prob(Omnibus):</th> <td> 0.032</td> <th>  Jarque-Bera (JB):  </th> <td>   6.948</td>\n",
       "</tr>\n",
       "<tr>\n",
       "  <th>Skew:</th>          <td>-0.349</td> <th>  Prob(JB):          </th> <td>  0.0310</td>\n",
       "</tr>\n",
       "<tr>\n",
       "  <th>Kurtosis:</th>      <td> 3.005</td> <th>  Cond. No.          </th> <td>    1.70</td>\n",
       "</tr>\n",
       "</table><br/><br/>Notes:<br/>[1] Standard Errors assume that the covariance matrix of the errors is correctly specified."
      ],
      "text/plain": [
       "<class 'statsmodels.iolib.summary.Summary'>\n",
       "\"\"\"\n",
       "                            OLS Regression Results                            \n",
       "==============================================================================\n",
       "Dep. Variable:        IQ_of_the_child   R-squared:                       0.234\n",
       "Model:                            OLS   Adj. R-squared:                  0.227\n",
       "Method:                 Least Squares   F-statistic:                     34.54\n",
       "Date:                Tue, 29 Nov 2022   Prob (F-statistic):           1.68e-19\n",
       "Time:                        00:50:17   Log-Likelihood:                -1462.4\n",
       "No. Observations:                 343   AIC:                             2933.\n",
       "Df Residuals:                     339   BIC:                             2948.\n",
       "Df Model:                           3                                         \n",
       "Covariance Type:            nonrobust                                         \n",
       "==============================================================================\n",
       "                 coef    std err          t      P>|t|      [0.025      0.975]\n",
       "------------------------------------------------------------------------------\n",
       "const         88.3341      0.971     90.982      0.000      86.424      90.244\n",
       "x1             8.6319      0.971      8.887      0.000       6.721      10.542\n",
       "x2             1.0606      1.043      1.017      0.310      -0.991       3.112\n",
       "x3            -2.9876      1.049     -2.849      0.005      -5.051      -0.925\n",
       "==============================================================================\n",
       "Omnibus:                        6.904   Durbin-Watson:                   1.874\n",
       "Prob(Omnibus):                  0.032   Jarque-Bera (JB):                6.948\n",
       "Skew:                          -0.349   Prob(JB):                       0.0310\n",
       "Kurtosis:                       3.005   Cond. No.                         1.70\n",
       "==============================================================================\n",
       "\n",
       "Notes:\n",
       "[1] Standard Errors assume that the covariance matrix of the errors is correctly specified.\n",
       "\"\"\""
      ]
     },
     "execution_count": 1131,
     "metadata": {},
     "output_type": "execute_result"
    }
   ],
   "source": [
    "model = sm.OLS(y_train, X_tr).fit()\n",
    "model.summary()"
   ]
  },
  {
   "cell_type": "code",
   "execution_count": 1132,
   "id": "009c5068",
   "metadata": {},
   "outputs": [
    {
     "name": "stdout",
     "output_type": "stream",
     "text": [
      "Training Mean Squared error: 295.62246737273296\n",
      "Test Mean Squared error: 340.0812778279867\n"
     ]
    }
   ],
   "source": [
    "print('Training Mean Squared error: ' + str(mean_squared_error(y_train, model.predict(X_tr))) + '\\n' + 'Test Mean Squared error: ' + str(mean_squared_error(y_test, model.predict(X_te))))\n"
   ]
  },
  {
   "cell_type": "markdown",
   "id": "d3833b5b",
   "metadata": {},
   "source": [
    "**<i>This Model is beeter as it has lesser number of features and have almost the same Adj. R-squared (.227) as the last model (.231) & the AIC & BIC are actually better than the last model. The AIC is 2933. while it was 2938. for the last model. The BIC is 2948. while it was 2980. for the last model. So, this model should be chosen. (In case of AIC & BIC lesser is better while in case of Adjusted R-squared more is better).</i>**"
   ]
  },
  {
   "cell_type": "markdown",
   "id": "f52902a5",
   "metadata": {},
   "source": [
    "<u> Checking for assumptions </u>"
   ]
  },
  {
   "cell_type": "code",
   "execution_count": 1078,
   "id": "69c20afe",
   "metadata": {},
   "outputs": [
    {
     "name": "stdout",
     "output_type": "stream",
     "text": [
      "eval_env: 1\n"
     ]
    },
    {
     "data": {
      "image/png": "[encoded data removed]",
      "text/plain": [
       "<Figure size 864x576 with 4 Axes>"
      ]
     },
     "metadata": {
      "needs_background": "light"
     },
     "output_type": "display_data"
    }
   ],
   "source": [
    "fig = plt.figure(figsize=(12,8))\n",
    "fig = sm.graphics.plot_regress_exog(model,'x1',fig=fig)"
   ]
  },
  {
   "cell_type": "code",
   "execution_count": 1079,
   "id": "fcf61bf0",
   "metadata": {},
   "outputs": [
    {
     "name": "stdout",
     "output_type": "stream",
     "text": [
      "eval_env: 1\n"
     ]
    },
    {
     "data": {
      "image/png": "[encoded data removed]",
      "text/plain": [
       "<Figure size 864x576 with 4 Axes>"
      ]
     },
     "metadata": {
      "needs_background": "light"
     },
     "output_type": "display_data"
    }
   ],
   "source": [
    "fig = plt.figure(figsize=(12,8))\n",
    "fig = sm.graphics.plot_regress_exog(model,'x2',fig=fig)"
   ]
  },
  {
   "cell_type": "code",
   "execution_count": 1080,
   "id": "6335adf8",
   "metadata": {},
   "outputs": [
    {
     "name": "stdout",
     "output_type": "stream",
     "text": [
      "eval_env: 1\n"
     ]
    },
    {
     "data": {
      "image/png": "[encoded data removed]",
      "text/plain": [
       "<Figure size 864x576 with 4 Axes>"
      ]
     },
     "metadata": {
      "needs_background": "light"
     },
     "output_type": "display_data"
    }
   ],
   "source": [
    "fig = plt.figure(figsize=(12,8))\n",
    "fig = sm.graphics.plot_regress_exog(model,'x3',fig=fig)"
   ]
  },
  {
   "cell_type": "markdown",
   "id": "96641020",
   "metadata": {},
   "source": [
    "**<i>We can see that the points in all the plots are plotted randomly spread or scattered. Points or residuals are scattered around the ‘0’ line, there is no pattern, and points are not based on one side so there’s no problem of heteroscedasticity.  With all the predictor variables ‘IQ_of_the_mother’,'mother_high_school_flag','IQ_of_the_mother mother_high_school_flag' there’s no heteroscedasticity.</i>**"
   ]
  },
  {
   "cell_type": "code",
   "execution_count": 1133,
   "id": "8f8f92b6",
   "metadata": {},
   "outputs": [
    {
     "data": {
      "text/plain": [
       "const    88.334059\n",
       "x1        8.631863\n",
       "x2        1.060634\n",
       "x3       -2.987619\n",
       "dtype: float64"
      ]
     },
     "execution_count": 1133,
     "metadata": {},
     "output_type": "execute_result"
    }
   ],
   "source": [
    "model.params"
   ]
  },
  {
   "cell_type": "markdown",
   "id": "d7ffc05c",
   "metadata": {},
   "source": [
    "**<i>This means that: </i>**\n",
    "\n",
    "<i>**1. If the IQ_of_the_mother (standarized) is increased by 1 unit (provided the other predictors are unchanged) then there is 8.63 times increase in the IQ of the child.</i>**\n",
    "\n",
    "<i>**2. If the mother_high_school_flag (standardized) is increased by 1 unit (provided the other predictors are unchanged) then there is 1.06 times increase in the IQ of the child.</i>**\n",
    "\n",
    "<i>**3. If the mother_high_school_flag * mother_high_school_flag (standardized) is increased by 1 unit (provided the other predictors are unchanged) then there is 2.98 times decrease in the IQ of the child.</i>**\n",
    "\n",
    "**<i>By seeing the absolue value of the coefficient, their feature imporatnce can also be concluded: IQ_of_the_mother is more important than the iteraction term i.e IQ_of_the_mother * mother_high_school_flag which is followed by mother_high_school_flag as the absolute value of coefficent is 8.63, 2.98 \\& 1.06 respectively. </i>**"
   ]
  },
  {
   "cell_type": "markdown",
   "id": "1aea66d2",
   "metadata": {},
   "source": [
    "## <font color='blue'><u> Conclusion </u></font>"
   ]
  },
  {
   "cell_type": "markdown",
   "id": "5579eaa6",
   "metadata": {},
   "source": [
    "<table align=\"left\">\n",
    "<tr><td><b>Type of Model</b></td><td><b>Predictors</b></td><td><b>Adjusted R-squared</b></td><td><b>Training Mean Squared Error</b></td><td><b>Test Mean Squared Error</b></td></tr>\n",
    "<tr><td> Single Predictor</td><td>IQ_of_the_mother</td><td>.202</td><td>307.164</td><td>350.199</td></tr>\n",
    "<tr><td> Multiple Predictor</td><td>IQ_of_the_mother, mother_high_school_flag </td><td>.211</td><td>302.698</td><td>350.871</td></tr>\n",
    "<tr><td> Multiple Predictor with Interaction</td><td>IQ_of_the_mother, mother_high_school_flag, IQ_of_the_mother mother_high_school_flag</td><td>.227</td><td>295.622</td><td>340.081</td></tr>\n",
    "</table>"
   ]
  },
  {
   "cell_type": "markdown",
   "id": "db573ecd",
   "metadata": {},
   "source": [
    "### <b>The Multiple Predictor with Interaction term is the best model. As, An interaction occurs when an independent variable has a different effect on the outcome depending on the values of another independent variable. This is the case here as IQ_of_the_mother, mother_high_school_flag have a clear relationship (based on statistical test). This model gives the highest Adjusted R-squared but the lowest AIC & BIC value among these models.</b>"
   ]
  }
 ],
 "metadata": {
  "kernelspec": {
   "display_name": "Python 3 (ipykernel)",
   "language": "python",
   "name": "python3"
  },
  "language_info": {
   "codemirror_mode": {
    "name": "ipython",
    "version": 3
   },
   "file_extension": ".py",
   "mimetype": "text/x-python",
   "name": "python",
   "nbconvert_exporter": "python",
   "pygments_lexer": "ipython3",
   "version": "3.8.12"
  }
 },
 "nbformat": 4,
 "nbformat_minor": 5
}
